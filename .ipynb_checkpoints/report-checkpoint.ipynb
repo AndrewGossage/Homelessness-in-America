{
 "cells": [
  {
   "cell_type": "markdown",
   "id": "74dd134d",
   "metadata": {},
   "source": [
    "# Project 4 Homelessness in America"
   ]
  },
  {
   "cell_type": "markdown",
   "id": "2feddbb7",
   "metadata": {},
   "source": [
    "## Contents\n",
    "\n",
    "1. [Introduction](#Introduction)\n",
    "2. [Data Cleaning and EDA (Homelessness counts)](#Data-Cleaning-and-EDA-(Homelessness-counts))\n",
    "5. [Conclusions and TODO](#Conclusions-and-TODO)"
   ]
  },
  {
   "cell_type": "markdown",
   "id": "507c0d36",
   "metadata": {},
   "source": [
    "## Introduction"
   ]
  },
  {
   "cell_type": "markdown",
   "id": "a857fa0b",
   "metadata": {},
   "source": []
  },
  {
   "cell_type": "markdown",
   "id": "083976c2",
   "metadata": {},
   "source": [
    "## Data Cleaning and EDA (Homelessness counts)"
   ]
  },
  {
   "cell_type": "markdown",
   "id": "915d1785",
   "metadata": {},
   "source": [
    "### The Data\n",
    "\n",
    "The department of Housing and Urban Development (HUD) publishes counts of sheltered and unsheltered homeless populations  every year ([source](https://www.hudexchange.info/programs/coc/coc-homeless-populations-and-subpopulations-reports/)). These counts are based on Point-in-Time (PIT) information provided to HUD by Continuum of Care (CoC) Homeless Assistance Programs  in the application for CoC Homeless Assistance Programs. The PIT Count provides a count of sheltered and unsheltered homeless persons on a single night during the last ten days in January for each CoC.\n",
    "\n"
   ]
  },
  {
   "cell_type": "markdown",
   "id": "edf9b0e2",
   "metadata": {},
   "source": [
    "### Data Cleaning"
   ]
  },
  {
   "cell_type": "markdown",
   "id": "602856a0",
   "metadata": {},
   "source": [
    "The PIT estimates for the years for the years 2014 to 2020 were obtained from the reports published by the HUD. These reports contain the counts of homeless for each CoC. Data cleaning involved gathering information about the city served by the CoC from separate tables from the HUD's website, merging this with the PIT estimates data and then aggregating these counts at the city level for each year between 2014 to 2020. The details of this data processing can be found in this [notebook](https://github.com/AndrewGossage/Project5/blob/master/data/homelessness/homelessness_cleaning/PIT%20and%20HIC%20Data%20Cleaning.ipynb)\n",
    "\n",
    "The tables containing the aggregated information for PIT estimates along with the cities served by each CoC for all years from 2014 to 2019 can be downloaded from [here](https://github.com/AndrewGossage/Project5/blob/master/data/homelessness/homelessness_cleaning/2014-2021-PIT-esimates-cleanish.csv)\n",
    "\n",
    "HUD also publishes the Housing Inventory Count or the HIC which is the number of housing units (both permanent and transitional) provided by each CoC. This data was also cleaned and merged with the city data of each CoC and can be downloaded from [here](https://github.com/AndrewGossage/Project5/blob/master/data/homelessness/homelessness_cleaning/2014-2021-HIC-cleanish.csv)"
   ]
  },
  {
   "cell_type": "markdown",
   "id": "6e661b39",
   "metadata": {},
   "source": [
    "### EDA"
   ]
  },
  {
   "cell_type": "markdown",
   "id": "6a6a06e9",
   "metadata": {},
   "source": []
  }
 ],
 "metadata": {
  "kernelspec": {
   "display_name": "Python 3",
   "language": "python",
   "name": "python3"
  },
  "language_info": {
   "codemirror_mode": {
    "name": "ipython",
    "version": 3
   },
   "file_extension": ".py",
   "mimetype": "text/x-python",
   "name": "python",
   "nbconvert_exporter": "python",
   "pygments_lexer": "ipython3",
   "version": "3.8.8"
  }
 },
 "nbformat": 4,
 "nbformat_minor": 5
}
