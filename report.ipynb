{
 "cells": [
  {
   "cell_type": "markdown",
   "id": "7c3702e2",
   "metadata": {},
   "source": [
    "# Project 4 Homelessness in America"
   ]
  },
  {
   "cell_type": "markdown",
   "id": "8f4fa94b",
   "metadata": {},
   "source": [
    "## Contents\n",
    "\n",
    "1. [Introduction](#Introduction)\n",
    "2. [Data Cleaning and EDA (Homelessness counts)](#Data-Cleaning-and-EDA-(Homelessness-counts))\n",
    "5. [Conclusions and TODO](#Conclusions-and-TODO)"
   ]
  },
  {
   "cell_type": "markdown",
   "id": "29ae2377",
   "metadata": {},
   "source": [
    "## Introduction"
   ]
  },
  {
   "cell_type": "markdown",
   "id": "78066e07",
   "metadata": {},
   "source": []
  },
  {
   "cell_type": "markdown",
   "id": "a49b7e3c",
   "metadata": {},
   "source": [
    "## Data Cleaning and EDA (Homelessness counts)"
   ]
  },
  {
   "cell_type": "markdown",
   "id": "21854739",
   "metadata": {},
   "source": [
    "### The Data\n",
    "\n",
    "The department of Housing and Urban Development (HUD) publishes counts of sheltered and unsheltered homeless populations  every year ([source](https://www.hudexchange.info/programs/coc/coc-homeless-populations-and-subpopulations-reports/)). These counts are based on Point-in-Time (PIT) information provided to HUD by Continuum of Care (CoC) Homeless Assistance Programs  in the application for CoC Homeless Assistance Programs. The PIT Count provides a count of sheltered and unsheltered homeless persons on a single night during the last ten days in January for each CoC.\n",
    "\n"
   ]
  },
  {
   "cell_type": "markdown",
   "id": "0cf3c7d3",
   "metadata": {},
   "source": [
    "### Data Cleaning"
   ]
  },
  {
   "cell_type": "markdown",
   "id": "7a6b3b93",
   "metadata": {},
   "source": [
    "The PIT estimates for the years for the years 2014 to 2020 were obtained from the reports published by the HUD. These reports contain the counts of homeless for each CoC. Data cleaning involved gathering information about the city served by the CoC from separate tables from the HUD's website, merging this with the PIT estiamtes data and thenaggregating these counts at the city level for each year between 2014 to 2020. The details of this data processing can be found in this [notebook]('./data/homelessness/homelessness_cleaning/PIT and HIC Data Cleaning.ipynb')"
   ]
  },
  {
   "cell_type": "code",
   "execution_count": null,
   "id": "1fcb8ec4",
   "metadata": {},
   "outputs": [],
   "source": [
    "import pandas as pd\n",
    "pd.read_csv()"
   ]
  }
 ],
 "metadata": {
  "kernelspec": {
   "display_name": "Python 3",
   "language": "python",
   "name": "python3"
  },
  "language_info": {
   "codemirror_mode": {
    "name": "ipython",
    "version": 3
   },
   "file_extension": ".py",
   "mimetype": "text/x-python",
   "name": "python",
   "nbconvert_exporter": "python",
   "pygments_lexer": "ipython3",
   "version": "3.8.8"
  }
 },
 "nbformat": 4,
 "nbformat_minor": 5
}
