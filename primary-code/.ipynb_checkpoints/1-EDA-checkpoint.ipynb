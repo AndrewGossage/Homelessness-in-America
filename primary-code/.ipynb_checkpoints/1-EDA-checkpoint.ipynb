{
 "cells": [
  {
   "cell_type": "markdown",
   "id": "18422df0-4071-4466-bd89-969803f4adc0",
   "metadata": {
    "tags": []
   },
   "source": [
    "<h1>EDA</h1>"
   ]
  },
  {
   "cell_type": "markdown",
   "id": "a22def12-1097-42ee-a26b-1ff74b2dd577",
   "metadata": {
    "tags": []
   },
   "source": [
    "<h2>Imports</h2>"
   ]
  },
  {
   "cell_type": "code",
   "execution_count": 1,
   "id": "7109b2f9-f334-414e-836a-e855e2d1bfc3",
   "metadata": {},
   "outputs": [],
   "source": [
    "import pandas as pd\n",
    "import numpy as np \n",
    "import matplotlib.pyplot as plt\n",
    "import seaborn as sns\n",
    "%matplotlib inline"
   ]
  },
  {
   "cell_type": "markdown",
   "id": "7e97e488-3a12-4280-ae67-ee9fd09e3a36",
   "metadata": {},
   "source": [
    "<h2>Data & Munging</h2>"
   ]
  },
  {
   "cell_type": "code",
   "execution_count": 2,
   "id": "c90efc75-24a1-410a-b069-3db43d5bcdae",
   "metadata": {},
   "outputs": [
    {
     "name": "stderr",
     "output_type": "stream",
     "text": [
      "/home/andrew/anaconda3/envs/dsi/lib/python3.8/site-packages/IPython/core/interactiveshell.py:3441: DtypeWarning: Columns (543) have mixed types.Specify dtype option on import or set low_memory=False.\n",
      "  exec(code_obj, self.user_global_ns, self.user_ns)\n"
     ]
    }
   ],
   "source": [
    "homelessness = pd.read_csv('../data/homelessness/homelessness_cleaning/2014-2021-PIT-esimates-cleanish.csv')"
   ]
  },
  {
   "cell_type": "code",
   "execution_count": null,
   "id": "62c8801f-7891-4d52-998d-001a4a3187be",
   "metadata": {},
   "outputs": [],
   "source": []
  },
  {
   "cell_type": "code",
   "execution_count": 3,
   "id": "2d36d1d7-adf3-4091-94dd-ae6cb5c1fa07",
   "metadata": {},
   "outputs": [],
   "source": [
    "env = pd.read_csv('../data/weather-population/city_data.csv')"
   ]
  },
  {
   "cell_type": "code",
   "execution_count": 4,
   "id": "e09b6c88-ea5a-47fe-89ed-f25e6621697e",
   "metadata": {},
   "outputs": [],
   "source": [
    "econ2017 = pd.read_csv('../data/housing-cost/cleaned/income_2017.csv')\n",
    "econ2018 = pd.read_csv('../data/housing-cost/cleaned/income_2018.csv')\n",
    "econ2019 = pd.read_csv('../data/housing-cost/cleaned/income_2019.csv')"
   ]
  },
  {
   "cell_type": "code",
   "execution_count": 5,
   "id": "b103d27b-59e1-4d43-b1b7-b6dbb421a586",
   "metadata": {},
   "outputs": [],
   "source": [
    "econ2017['year'] = '2017'\n",
    "econ2017['city, state'] = econ2017['city'] + ', ' + econ2017['state']\n",
    "econ2018['year'] = '2018'\n",
    "econ2018['city, state'] = econ2018['city'] + ', ' + econ2018['state']\n",
    "econ2019['year'] = '2019'\n",
    "econ2019['city, state'] = econ2019['city'] + ', ' + econ2019['state']"
   ]
  },
  {
   "cell_type": "code",
   "execution_count": 6,
   "id": "be39187d-7db1-4650-8332-8cdf41015d82",
   "metadata": {},
   "outputs": [],
   "source": [
    "econ2017.columns = econ2017.columns.str.replace('_2017', '')\n",
    "econ2018.columns = econ2018.columns.str.replace('_2018', '')\n",
    "econ2019.columns = econ2019.columns.str.replace('_2019', '')"
   ]
  },
  {
   "cell_type": "code",
   "execution_count": 7,
   "id": "4e8f88a8-8e16-4099-a70a-5f88909490d8",
   "metadata": {},
   "outputs": [],
   "source": [
    "econ = pd.concat([econ2017,econ2018, econ2019])"
   ]
  },
  {
   "cell_type": "code",
   "execution_count": 8,
   "id": "a42224f6-bd57-470c-bc98-c02f8a1090a2",
   "metadata": {},
   "outputs": [
    {
     "data": {
      "text/html": [
       "<div>\n",
       "<style scoped>\n",
       "    .dataframe tbody tr th:only-of-type {\n",
       "        vertical-align: middle;\n",
       "    }\n",
       "\n",
       "    .dataframe tbody tr th {\n",
       "        vertical-align: top;\n",
       "    }\n",
       "\n",
       "    .dataframe thead th {\n",
       "        text-align: right;\n",
       "    }\n",
       "</style>\n",
       "<table border=\"1\" class=\"dataframe\">\n",
       "  <thead>\n",
       "    <tr style=\"text-align: right;\">\n",
       "      <th></th>\n",
       "      <th>city</th>\n",
       "      <th>state</th>\n",
       "      <th>median household income (dollars)</th>\n",
       "      <th>monthly cost</th>\n",
       "      <th>owner occupied income</th>\n",
       "      <th>owner occupied cost</th>\n",
       "      <th>renter occupied income</th>\n",
       "      <th>renter occupied cost</th>\n",
       "      <th>year</th>\n",
       "      <th>city, state</th>\n",
       "    </tr>\n",
       "  </thead>\n",
       "  <tbody>\n",
       "    <tr>\n",
       "      <th>0</th>\n",
       "      <td>abbeville</td>\n",
       "      <td>la</td>\n",
       "      <td>41082</td>\n",
       "      <td>514</td>\n",
       "      <td>51168</td>\n",
       "      <td>399</td>\n",
       "      <td>23326</td>\n",
       "      <td>643</td>\n",
       "      <td>2017</td>\n",
       "      <td>abbeville, la</td>\n",
       "    </tr>\n",
       "    <tr>\n",
       "      <th>1</th>\n",
       "      <td>abbeville</td>\n",
       "      <td>sc</td>\n",
       "      <td>22898</td>\n",
       "      <td>549</td>\n",
       "      <td>32998</td>\n",
       "      <td>572</td>\n",
       "      <td>14408</td>\n",
       "      <td>544</td>\n",
       "      <td>2017</td>\n",
       "      <td>abbeville, sc</td>\n",
       "    </tr>\n",
       "    <tr>\n",
       "      <th>2</th>\n",
       "      <td>abbotsford</td>\n",
       "      <td>wi</td>\n",
       "      <td>42043</td>\n",
       "      <td>608</td>\n",
       "      <td>53068</td>\n",
       "      <td>667</td>\n",
       "      <td>28594</td>\n",
       "      <td>576</td>\n",
       "      <td>2017</td>\n",
       "      <td>abbotsford, wi</td>\n",
       "    </tr>\n",
       "    <tr>\n",
       "      <th>3</th>\n",
       "      <td>aberdeen</td>\n",
       "      <td>ms</td>\n",
       "      <td>29317</td>\n",
       "      <td>578</td>\n",
       "      <td>44957</td>\n",
       "      <td>622</td>\n",
       "      <td>18199</td>\n",
       "      <td>537</td>\n",
       "      <td>2017</td>\n",
       "      <td>aberdeen, ms</td>\n",
       "    </tr>\n",
       "    <tr>\n",
       "      <th>4</th>\n",
       "      <td>aberdeen</td>\n",
       "      <td>sd</td>\n",
       "      <td>47342</td>\n",
       "      <td>721</td>\n",
       "      <td>70839</td>\n",
       "      <td>840</td>\n",
       "      <td>30029</td>\n",
       "      <td>641</td>\n",
       "      <td>2017</td>\n",
       "      <td>aberdeen, sd</td>\n",
       "    </tr>\n",
       "  </tbody>\n",
       "</table>\n",
       "</div>"
      ],
      "text/plain": [
       "         city state  median household income (dollars)  monthly cost  \\\n",
       "0   abbeville    la                              41082           514   \n",
       "1   abbeville    sc                              22898           549   \n",
       "2  abbotsford    wi                              42043           608   \n",
       "3    aberdeen    ms                              29317           578   \n",
       "4    aberdeen    sd                              47342           721   \n",
       "\n",
       "   owner occupied income  owner occupied cost  renter occupied income  \\\n",
       "0                  51168                  399                   23326   \n",
       "1                  32998                  572                   14408   \n",
       "2                  53068                  667                   28594   \n",
       "3                  44957                  622                   18199   \n",
       "4                  70839                  840                   30029   \n",
       "\n",
       "   renter occupied cost  year     city, state  \n",
       "0                   643  2017   abbeville, la  \n",
       "1                   544  2017   abbeville, sc  \n",
       "2                   576  2017  abbotsford, wi  \n",
       "3                   537  2017    aberdeen, ms  \n",
       "4                   641  2017    aberdeen, sd  "
      ]
     },
     "execution_count": 8,
     "metadata": {},
     "output_type": "execute_result"
    }
   ],
   "source": [
    "econ.head()"
   ]
  },
  {
   "cell_type": "code",
   "execution_count": 9,
   "id": "18fc3931-56c7-4560-87b6-1981d5fa80c2",
   "metadata": {},
   "outputs": [
    {
     "data": {
      "text/html": [
       "<div>\n",
       "<style scoped>\n",
       "    .dataframe tbody tr th:only-of-type {\n",
       "        vertical-align: middle;\n",
       "    }\n",
       "\n",
       "    .dataframe tbody tr th {\n",
       "        vertical-align: top;\n",
       "    }\n",
       "\n",
       "    .dataframe thead th {\n",
       "        text-align: right;\n",
       "    }\n",
       "</style>\n",
       "<table border=\"1\" class=\"dataframe\">\n",
       "  <thead>\n",
       "    <tr style=\"text-align: right;\">\n",
       "      <th></th>\n",
       "      <th>Unnamed: 0</th>\n",
       "      <th>CoC Number</th>\n",
       "      <th>CoC Name</th>\n",
       "      <th>Overall Homeless</th>\n",
       "      <th>Overall Homeless - Under 18</th>\n",
       "      <th>Overall Homeless - Age 18 to 24</th>\n",
       "      <th>Overall Homeless - Over 24</th>\n",
       "      <th>Sheltered ES Homeless</th>\n",
       "      <th>Sheltered ES Homeless - Under 18</th>\n",
       "      <th>Sheltered ES Homeless - Age 18 to 24</th>\n",
       "      <th>...</th>\n",
       "      <th>Unsheltered Homeless Parenting Youth (Under 25) - Hispanic/Latino</th>\n",
       "      <th>Unsheltered Homeless Parenting Youth (Under 25) - White</th>\n",
       "      <th>Unsheltered Homeless Parenting Youth (Under 25) - Black or African American</th>\n",
       "      <th>Unsheltered Homeless Parenting Youth (Under 25) - Asian</th>\n",
       "      <th>Unsheltered Homeless Parenting Youth (Under 25) - American Indian or Alaska Native</th>\n",
       "      <th>Unsheltered Homeless Parenting Youth (Under 25) - Native Hawaiian or Other Pacific Islander</th>\n",
       "      <th>Unsheltered Homeless Parenting Youth (Under 25) - Multiple Races</th>\n",
       "      <th>CoC Category</th>\n",
       "      <th>City</th>\n",
       "      <th>State</th>\n",
       "    </tr>\n",
       "  </thead>\n",
       "  <tbody>\n",
       "    <tr>\n",
       "      <th>0</th>\n",
       "      <td>0</td>\n",
       "      <td>AK-500</td>\n",
       "      <td>Anchorage CoC</td>\n",
       "      <td>1023.0</td>\n",
       "      <td>188.0</td>\n",
       "      <td>146.0</td>\n",
       "      <td>689.0</td>\n",
       "      <td>665.0</td>\n",
       "      <td>86.0</td>\n",
       "      <td>88.0</td>\n",
       "      <td>...</td>\n",
       "      <td>NaN</td>\n",
       "      <td>NaN</td>\n",
       "      <td>NaN</td>\n",
       "      <td>NaN</td>\n",
       "      <td>NaN</td>\n",
       "      <td>NaN</td>\n",
       "      <td>NaN</td>\n",
       "      <td>NaN</td>\n",
       "      <td>anchorage</td>\n",
       "      <td>ak</td>\n",
       "    </tr>\n",
       "    <tr>\n",
       "      <th>1</th>\n",
       "      <td>1</td>\n",
       "      <td>AK-501</td>\n",
       "      <td>Alaska Balance of State CoC</td>\n",
       "      <td>761.0</td>\n",
       "      <td>209.0</td>\n",
       "      <td>56.0</td>\n",
       "      <td>496.0</td>\n",
       "      <td>474.0</td>\n",
       "      <td>119.0</td>\n",
       "      <td>30.0</td>\n",
       "      <td>...</td>\n",
       "      <td>NaN</td>\n",
       "      <td>NaN</td>\n",
       "      <td>NaN</td>\n",
       "      <td>NaN</td>\n",
       "      <td>NaN</td>\n",
       "      <td>NaN</td>\n",
       "      <td>NaN</td>\n",
       "      <td>NaN</td>\n",
       "      <td>anchorage</td>\n",
       "      <td>ak</td>\n",
       "    </tr>\n",
       "    <tr>\n",
       "      <th>2</th>\n",
       "      <td>2</td>\n",
       "      <td>AL-500</td>\n",
       "      <td>Birmingham/Jefferson, St. Clair, Shelby Counti...</td>\n",
       "      <td>1329.0</td>\n",
       "      <td>262.0</td>\n",
       "      <td>76.0</td>\n",
       "      <td>991.0</td>\n",
       "      <td>387.0</td>\n",
       "      <td>47.0</td>\n",
       "      <td>27.0</td>\n",
       "      <td>...</td>\n",
       "      <td>NaN</td>\n",
       "      <td>NaN</td>\n",
       "      <td>NaN</td>\n",
       "      <td>NaN</td>\n",
       "      <td>NaN</td>\n",
       "      <td>NaN</td>\n",
       "      <td>NaN</td>\n",
       "      <td>NaN</td>\n",
       "      <td>birmingham</td>\n",
       "      <td>al</td>\n",
       "    </tr>\n",
       "    <tr>\n",
       "      <th>3</th>\n",
       "      <td>3</td>\n",
       "      <td>AL-501</td>\n",
       "      <td>Mobile City &amp; County/Baldwin County CoC</td>\n",
       "      <td>598.0</td>\n",
       "      <td>126.0</td>\n",
       "      <td>44.0</td>\n",
       "      <td>428.0</td>\n",
       "      <td>287.0</td>\n",
       "      <td>69.0</td>\n",
       "      <td>24.0</td>\n",
       "      <td>...</td>\n",
       "      <td>NaN</td>\n",
       "      <td>NaN</td>\n",
       "      <td>NaN</td>\n",
       "      <td>NaN</td>\n",
       "      <td>NaN</td>\n",
       "      <td>NaN</td>\n",
       "      <td>NaN</td>\n",
       "      <td>NaN</td>\n",
       "      <td>mobile</td>\n",
       "      <td>al</td>\n",
       "    </tr>\n",
       "    <tr>\n",
       "      <th>4</th>\n",
       "      <td>4</td>\n",
       "      <td>AL-502</td>\n",
       "      <td>Florence/Northwest Alabama CoC</td>\n",
       "      <td>209.0</td>\n",
       "      <td>50.0</td>\n",
       "      <td>6.0</td>\n",
       "      <td>153.0</td>\n",
       "      <td>38.0</td>\n",
       "      <td>7.0</td>\n",
       "      <td>1.0</td>\n",
       "      <td>...</td>\n",
       "      <td>NaN</td>\n",
       "      <td>NaN</td>\n",
       "      <td>NaN</td>\n",
       "      <td>NaN</td>\n",
       "      <td>NaN</td>\n",
       "      <td>NaN</td>\n",
       "      <td>NaN</td>\n",
       "      <td>NaN</td>\n",
       "      <td>florence</td>\n",
       "      <td>al</td>\n",
       "    </tr>\n",
       "  </tbody>\n",
       "</table>\n",
       "<p>5 rows × 546 columns</p>\n",
       "</div>"
      ],
      "text/plain": [
       "   Unnamed: 0 CoC Number                                           CoC Name  \\\n",
       "0           0     AK-500                                      Anchorage CoC   \n",
       "1           1     AK-501                        Alaska Balance of State CoC   \n",
       "2           2     AL-500  Birmingham/Jefferson, St. Clair, Shelby Counti...   \n",
       "3           3     AL-501            Mobile City & County/Baldwin County CoC   \n",
       "4           4     AL-502                     Florence/Northwest Alabama CoC   \n",
       "\n",
       "   Overall Homeless  Overall Homeless - Under 18  \\\n",
       "0            1023.0                        188.0   \n",
       "1             761.0                        209.0   \n",
       "2            1329.0                        262.0   \n",
       "3             598.0                        126.0   \n",
       "4             209.0                         50.0   \n",
       "\n",
       "   Overall Homeless - Age 18 to 24  Overall Homeless - Over 24  \\\n",
       "0                            146.0                       689.0   \n",
       "1                             56.0                       496.0   \n",
       "2                             76.0                       991.0   \n",
       "3                             44.0                       428.0   \n",
       "4                              6.0                       153.0   \n",
       "\n",
       "   Sheltered ES Homeless  Sheltered ES Homeless - Under 18  \\\n",
       "0                  665.0                              86.0   \n",
       "1                  474.0                             119.0   \n",
       "2                  387.0                              47.0   \n",
       "3                  287.0                              69.0   \n",
       "4                   38.0                               7.0   \n",
       "\n",
       "   Sheltered ES Homeless - Age 18 to 24  ...  \\\n",
       "0                                  88.0  ...   \n",
       "1                                  30.0  ...   \n",
       "2                                  27.0  ...   \n",
       "3                                  24.0  ...   \n",
       "4                                   1.0  ...   \n",
       "\n",
       "   Unsheltered Homeless Parenting Youth (Under 25) - Hispanic/Latino  \\\n",
       "0                                                NaN                   \n",
       "1                                                NaN                   \n",
       "2                                                NaN                   \n",
       "3                                                NaN                   \n",
       "4                                                NaN                   \n",
       "\n",
       "   Unsheltered Homeless Parenting Youth (Under 25) - White  \\\n",
       "0                                                NaN         \n",
       "1                                                NaN         \n",
       "2                                                NaN         \n",
       "3                                                NaN         \n",
       "4                                                NaN         \n",
       "\n",
       "   Unsheltered Homeless Parenting Youth (Under 25) - Black or African American  \\\n",
       "0                                                NaN                             \n",
       "1                                                NaN                             \n",
       "2                                                NaN                             \n",
       "3                                                NaN                             \n",
       "4                                                NaN                             \n",
       "\n",
       "   Unsheltered Homeless Parenting Youth (Under 25) - Asian  \\\n",
       "0                                                NaN         \n",
       "1                                                NaN         \n",
       "2                                                NaN         \n",
       "3                                                NaN         \n",
       "4                                                NaN         \n",
       "\n",
       "   Unsheltered Homeless Parenting Youth (Under 25) - American Indian or Alaska Native  \\\n",
       "0                                                NaN                                    \n",
       "1                                                NaN                                    \n",
       "2                                                NaN                                    \n",
       "3                                                NaN                                    \n",
       "4                                                NaN                                    \n",
       "\n",
       "   Unsheltered Homeless Parenting Youth (Under 25) - Native Hawaiian or Other Pacific Islander  \\\n",
       "0                                                NaN                                             \n",
       "1                                                NaN                                             \n",
       "2                                                NaN                                             \n",
       "3                                                NaN                                             \n",
       "4                                                NaN                                             \n",
       "\n",
       "   Unsheltered Homeless Parenting Youth (Under 25) - Multiple Races  \\\n",
       "0                                                NaN                  \n",
       "1                                                NaN                  \n",
       "2                                                NaN                  \n",
       "3                                                NaN                  \n",
       "4                                                NaN                  \n",
       "\n",
       "   CoC Category        City  State  \n",
       "0           NaN   anchorage     ak  \n",
       "1           NaN   anchorage     ak  \n",
       "2           NaN  birmingham     al  \n",
       "3           NaN      mobile     al  \n",
       "4           NaN    florence     al  \n",
       "\n",
       "[5 rows x 546 columns]"
      ]
     },
     "execution_count": 9,
     "metadata": {},
     "output_type": "execute_result"
    }
   ],
   "source": [
    "homelessness.head()"
   ]
  },
  {
   "cell_type": "code",
   "execution_count": 10,
   "id": "223348ea-ca31-4b9c-a774-2ae0157655d6",
   "metadata": {},
   "outputs": [],
   "source": [
    "homelessness.columns = homelessness.columns.str.lower()"
   ]
  },
  {
   "cell_type": "code",
   "execution_count": 11,
   "id": "e612af04-5346-4345-99ea-76542259d1ea",
   "metadata": {},
   "outputs": [
    {
     "data": {
      "text/plain": [
       "0    1023.0\n",
       "1     761.0\n",
       "2    1329.0\n",
       "3     598.0\n",
       "4     209.0\n",
       "Name: overall homeless, dtype: float64"
      ]
     },
     "execution_count": 11,
     "metadata": {},
     "output_type": "execute_result"
    }
   ],
   "source": [
    "homelessness['overall homeless'].head()"
   ]
  },
  {
   "cell_type": "code",
   "execution_count": 12,
   "id": "134c93e3-a972-46a3-a8ec-58ab2c1f7597",
   "metadata": {},
   "outputs": [],
   "source": [
    "homelessness.columns = homelessness.columns.str.lower()"
   ]
  },
  {
   "cell_type": "code",
   "execution_count": 13,
   "id": "e84b882d-57b0-4a62-9974-92325edaa90f",
   "metadata": {},
   "outputs": [],
   "source": [
    "env = env.rename(columns={'usps':'state'})"
   ]
  },
  {
   "cell_type": "code",
   "execution_count": 14,
   "id": "e5956dad-82a0-45d7-8331-3620ebff7ad5",
   "metadata": {},
   "outputs": [],
   "source": [
    "env.dropna(inplace=True)"
   ]
  },
  {
   "cell_type": "code",
   "execution_count": 15,
   "id": "f44ff28f-f69d-4ca7-8d2d-502fc5c0bb13",
   "metadata": {},
   "outputs": [
    {
     "data": {
      "text/html": [
       "<div>\n",
       "<style scoped>\n",
       "    .dataframe tbody tr th:only-of-type {\n",
       "        vertical-align: middle;\n",
       "    }\n",
       "\n",
       "    .dataframe tbody tr th {\n",
       "        vertical-align: top;\n",
       "    }\n",
       "\n",
       "    .dataframe thead th {\n",
       "        text-align: right;\n",
       "    }\n",
       "</style>\n",
       "<table border=\"1\" class=\"dataframe\">\n",
       "  <thead>\n",
       "    <tr style=\"text-align: right;\">\n",
       "      <th></th>\n",
       "      <th>city</th>\n",
       "      <th>Jan</th>\n",
       "      <th>April</th>\n",
       "      <th>July</th>\n",
       "      <th>Oct</th>\n",
       "      <th>Precip “</th>\n",
       "      <th>precip days</th>\n",
       "      <th>snowfall</th>\n",
       "      <th>rank</th>\n",
       "      <th>state</th>\n",
       "      <th>...</th>\n",
       "      <th>Growth / Decline</th>\n",
       "      <th>Rank_y</th>\n",
       "      <th>Population (2013)</th>\n",
       "      <th>Budget</th>\n",
       "      <th>Mayor</th>\n",
       "      <th>Took office</th>\n",
       "      <th>Term ends</th>\n",
       "      <th>Government type</th>\n",
       "      <th>City elections in 2021?</th>\n",
       "      <th>Mayoral election in 2021?</th>\n",
       "    </tr>\n",
       "  </thead>\n",
       "  <tbody>\n",
       "    <tr>\n",
       "      <th>1</th>\n",
       "      <td>Albuquerque</td>\n",
       "      <td>35.7</td>\n",
       "      <td>55.6</td>\n",
       "      <td>78.5</td>\n",
       "      <td>57.3</td>\n",
       "      <td>9.47</td>\n",
       "      <td>60</td>\n",
       "      <td>11</td>\n",
       "      <td>32.0</td>\n",
       "      <td>NM</td>\n",
       "      <td>...</td>\n",
       "      <td>9565.0</td>\n",
       "      <td>32.0</td>\n",
       "      <td>556495.0</td>\n",
       "      <td>$893,000,000</td>\n",
       "      <td>Tim Keller (D)</td>\n",
       "      <td>2017.0</td>\n",
       "      <td>2022.0</td>\n",
       "      <td>Strong mayor</td>\n",
       "      <td>Yes</td>\n",
       "      <td>Yes</td>\n",
       "    </tr>\n",
       "    <tr>\n",
       "      <th>4</th>\n",
       "      <td>Atlanta</td>\n",
       "      <td>42.7</td>\n",
       "      <td>61.6</td>\n",
       "      <td>80.0</td>\n",
       "      <td>62.8</td>\n",
       "      <td>50.20</td>\n",
       "      <td>115</td>\n",
       "      <td>2.1</td>\n",
       "      <td>37.0</td>\n",
       "      <td>GA</td>\n",
       "      <td>...</td>\n",
       "      <td>23772.0</td>\n",
       "      <td>40.0</td>\n",
       "      <td>447841.0</td>\n",
       "      <td>$533,000,000</td>\n",
       "      <td>Keisha Bottoms (D)</td>\n",
       "      <td>2018.0</td>\n",
       "      <td>2022.0</td>\n",
       "      <td>Strong mayor</td>\n",
       "      <td>Yes</td>\n",
       "      <td>Yes</td>\n",
       "    </tr>\n",
       "    <tr>\n",
       "      <th>6</th>\n",
       "      <td>Austin</td>\n",
       "      <td>50.2</td>\n",
       "      <td>68.3</td>\n",
       "      <td>84.2</td>\n",
       "      <td>70.6</td>\n",
       "      <td>33.65</td>\n",
       "      <td>85</td>\n",
       "      <td>0.9</td>\n",
       "      <td>10.0</td>\n",
       "      <td>TX</td>\n",
       "      <td>...</td>\n",
       "      <td>52202.0</td>\n",
       "      <td>12.0</td>\n",
       "      <td>885400.0</td>\n",
       "      <td>$3,500,000,000</td>\n",
       "      <td>Stephen Adler (D)</td>\n",
       "      <td>2015.0</td>\n",
       "      <td>2023.0</td>\n",
       "      <td>Strong mayor</td>\n",
       "      <td>No</td>\n",
       "      <td>No</td>\n",
       "    </tr>\n",
       "    <tr>\n",
       "      <th>7</th>\n",
       "      <td>Baltimore</td>\n",
       "      <td>32.3</td>\n",
       "      <td>53.2</td>\n",
       "      <td>76.5</td>\n",
       "      <td>55.4</td>\n",
       "      <td>41.94</td>\n",
       "      <td>115</td>\n",
       "      <td>21.5</td>\n",
       "      <td>31.0</td>\n",
       "      <td>MD</td>\n",
       "      <td>...</td>\n",
       "      <td>381.0</td>\n",
       "      <td>26.0</td>\n",
       "      <td>622104.0</td>\n",
       "      <td>$1,648,000,000</td>\n",
       "      <td>Brandon M. Scott (D)</td>\n",
       "      <td>2020.0</td>\n",
       "      <td>2024.0</td>\n",
       "      <td>Strong mayor</td>\n",
       "      <td>No</td>\n",
       "      <td>No</td>\n",
       "    </tr>\n",
       "    <tr>\n",
       "      <th>8</th>\n",
       "      <td>Baton Rouge</td>\n",
       "      <td>50.1</td>\n",
       "      <td>66.6</td>\n",
       "      <td>81.7</td>\n",
       "      <td>68.1</td>\n",
       "      <td>63.08</td>\n",
       "      <td>110</td>\n",
       "      <td>0.2</td>\n",
       "      <td>108.0</td>\n",
       "      <td>LA</td>\n",
       "      <td>...</td>\n",
       "      <td>565.0</td>\n",
       "      <td>92.0</td>\n",
       "      <td>229426.0</td>\n",
       "      <td>$830,000,000</td>\n",
       "      <td>Sharon Weston Broome (D)</td>\n",
       "      <td>2017.0</td>\n",
       "      <td>2024.0</td>\n",
       "      <td>Strong mayor</td>\n",
       "      <td>Yes</td>\n",
       "      <td>No</td>\n",
       "    </tr>\n",
       "  </tbody>\n",
       "</table>\n",
       "<p>5 rows × 27 columns</p>\n",
       "</div>"
      ],
      "text/plain": [
       "          city   Jan  April  July  Oct   Precip “  precip days snowfall  \\\n",
       "1  Albuquerque  35.7   55.6  78.5  57.3      9.47           60       11   \n",
       "4      Atlanta  42.7   61.6  80.0  62.8     50.20          115      2.1   \n",
       "6       Austin  50.2   68.3  84.2  70.6     33.65           85      0.9   \n",
       "7    Baltimore  32.3   53.2  76.5  55.4     41.94          115     21.5   \n",
       "8  Baton Rouge  50.1   66.6  81.7  68.1     63.08          110      0.2   \n",
       "\n",
       "    rank state  ...  Growth / Decline  Rank_y  Population (2013)  \\\n",
       "1   32.0    NM  ...            9565.0    32.0           556495.0   \n",
       "4   37.0    GA  ...           23772.0    40.0           447841.0   \n",
       "6   10.0    TX  ...           52202.0    12.0           885400.0   \n",
       "7   31.0    MD  ...             381.0    26.0           622104.0   \n",
       "8  108.0    LA  ...             565.0    92.0           229426.0   \n",
       "\n",
       "           Budget                     Mayor  Took office  Term ends  \\\n",
       "1    $893,000,000            Tim Keller (D)       2017.0     2022.0   \n",
       "4    $533,000,000        Keisha Bottoms (D)       2018.0     2022.0   \n",
       "6  $3,500,000,000         Stephen Adler (D)       2015.0     2023.0   \n",
       "7  $1,648,000,000      Brandon M. Scott (D)       2020.0     2024.0   \n",
       "8    $830,000,000  Sharon Weston Broome (D)       2017.0     2024.0   \n",
       "\n",
       "   Government type  City elections in 2021?  Mayoral election in 2021?  \n",
       "1     Strong mayor                      Yes                        Yes  \n",
       "4     Strong mayor                      Yes                        Yes  \n",
       "6     Strong mayor                       No                         No  \n",
       "7     Strong mayor                       No                         No  \n",
       "8     Strong mayor                      Yes                         No  \n",
       "\n",
       "[5 rows x 27 columns]"
      ]
     },
     "execution_count": 15,
     "metadata": {},
     "output_type": "execute_result"
    }
   ],
   "source": [
    "env.head()"
   ]
  },
  {
   "cell_type": "code",
   "execution_count": 16,
   "id": "edcef079-4d8c-4075-a9bd-fe618d448286",
   "metadata": {},
   "outputs": [
    {
     "data": {
      "text/html": [
       "<div>\n",
       "<style scoped>\n",
       "    .dataframe tbody tr th:only-of-type {\n",
       "        vertical-align: middle;\n",
       "    }\n",
       "\n",
       "    .dataframe tbody tr th {\n",
       "        vertical-align: top;\n",
       "    }\n",
       "\n",
       "    .dataframe thead th {\n",
       "        text-align: right;\n",
       "    }\n",
       "</style>\n",
       "<table border=\"1\" class=\"dataframe\">\n",
       "  <thead>\n",
       "    <tr style=\"text-align: right;\">\n",
       "      <th></th>\n",
       "      <th>city</th>\n",
       "      <th>Jan</th>\n",
       "      <th>April</th>\n",
       "      <th>July</th>\n",
       "      <th>Oct</th>\n",
       "      <th>Precip “</th>\n",
       "      <th>precip days</th>\n",
       "      <th>snowfall</th>\n",
       "      <th>rank</th>\n",
       "      <th>state</th>\n",
       "      <th>...</th>\n",
       "      <th>Growth / Decline</th>\n",
       "      <th>Rank_y</th>\n",
       "      <th>Population (2013)</th>\n",
       "      <th>Budget</th>\n",
       "      <th>Mayor</th>\n",
       "      <th>Took office</th>\n",
       "      <th>Term ends</th>\n",
       "      <th>Government type</th>\n",
       "      <th>City elections in 2021?</th>\n",
       "      <th>Mayoral election in 2021?</th>\n",
       "    </tr>\n",
       "  </thead>\n",
       "  <tbody>\n",
       "    <tr>\n",
       "      <th>1</th>\n",
       "      <td>Albuquerque</td>\n",
       "      <td>35.7</td>\n",
       "      <td>55.6</td>\n",
       "      <td>78.5</td>\n",
       "      <td>57.3</td>\n",
       "      <td>9.47</td>\n",
       "      <td>60</td>\n",
       "      <td>11</td>\n",
       "      <td>32.0</td>\n",
       "      <td>NM</td>\n",
       "      <td>...</td>\n",
       "      <td>9565.0</td>\n",
       "      <td>32.0</td>\n",
       "      <td>556495.0</td>\n",
       "      <td>$893,000,000</td>\n",
       "      <td>Tim Keller (D)</td>\n",
       "      <td>2017.0</td>\n",
       "      <td>2022.0</td>\n",
       "      <td>Strong mayor</td>\n",
       "      <td>Yes</td>\n",
       "      <td>Yes</td>\n",
       "    </tr>\n",
       "    <tr>\n",
       "      <th>4</th>\n",
       "      <td>Atlanta</td>\n",
       "      <td>42.7</td>\n",
       "      <td>61.6</td>\n",
       "      <td>80.0</td>\n",
       "      <td>62.8</td>\n",
       "      <td>50.20</td>\n",
       "      <td>115</td>\n",
       "      <td>2.1</td>\n",
       "      <td>37.0</td>\n",
       "      <td>GA</td>\n",
       "      <td>...</td>\n",
       "      <td>23772.0</td>\n",
       "      <td>40.0</td>\n",
       "      <td>447841.0</td>\n",
       "      <td>$533,000,000</td>\n",
       "      <td>Keisha Bottoms (D)</td>\n",
       "      <td>2018.0</td>\n",
       "      <td>2022.0</td>\n",
       "      <td>Strong mayor</td>\n",
       "      <td>Yes</td>\n",
       "      <td>Yes</td>\n",
       "    </tr>\n",
       "    <tr>\n",
       "      <th>6</th>\n",
       "      <td>Austin</td>\n",
       "      <td>50.2</td>\n",
       "      <td>68.3</td>\n",
       "      <td>84.2</td>\n",
       "      <td>70.6</td>\n",
       "      <td>33.65</td>\n",
       "      <td>85</td>\n",
       "      <td>0.9</td>\n",
       "      <td>10.0</td>\n",
       "      <td>TX</td>\n",
       "      <td>...</td>\n",
       "      <td>52202.0</td>\n",
       "      <td>12.0</td>\n",
       "      <td>885400.0</td>\n",
       "      <td>$3,500,000,000</td>\n",
       "      <td>Stephen Adler (D)</td>\n",
       "      <td>2015.0</td>\n",
       "      <td>2023.0</td>\n",
       "      <td>Strong mayor</td>\n",
       "      <td>No</td>\n",
       "      <td>No</td>\n",
       "    </tr>\n",
       "    <tr>\n",
       "      <th>7</th>\n",
       "      <td>Baltimore</td>\n",
       "      <td>32.3</td>\n",
       "      <td>53.2</td>\n",
       "      <td>76.5</td>\n",
       "      <td>55.4</td>\n",
       "      <td>41.94</td>\n",
       "      <td>115</td>\n",
       "      <td>21.5</td>\n",
       "      <td>31.0</td>\n",
       "      <td>MD</td>\n",
       "      <td>...</td>\n",
       "      <td>381.0</td>\n",
       "      <td>26.0</td>\n",
       "      <td>622104.0</td>\n",
       "      <td>$1,648,000,000</td>\n",
       "      <td>Brandon M. Scott (D)</td>\n",
       "      <td>2020.0</td>\n",
       "      <td>2024.0</td>\n",
       "      <td>Strong mayor</td>\n",
       "      <td>No</td>\n",
       "      <td>No</td>\n",
       "    </tr>\n",
       "    <tr>\n",
       "      <th>8</th>\n",
       "      <td>Baton Rouge</td>\n",
       "      <td>50.1</td>\n",
       "      <td>66.6</td>\n",
       "      <td>81.7</td>\n",
       "      <td>68.1</td>\n",
       "      <td>63.08</td>\n",
       "      <td>110</td>\n",
       "      <td>0.2</td>\n",
       "      <td>108.0</td>\n",
       "      <td>LA</td>\n",
       "      <td>...</td>\n",
       "      <td>565.0</td>\n",
       "      <td>92.0</td>\n",
       "      <td>229426.0</td>\n",
       "      <td>$830,000,000</td>\n",
       "      <td>Sharon Weston Broome (D)</td>\n",
       "      <td>2017.0</td>\n",
       "      <td>2024.0</td>\n",
       "      <td>Strong mayor</td>\n",
       "      <td>Yes</td>\n",
       "      <td>No</td>\n",
       "    </tr>\n",
       "  </tbody>\n",
       "</table>\n",
       "<p>5 rows × 27 columns</p>\n",
       "</div>"
      ],
      "text/plain": [
       "          city   Jan  April  July  Oct   Precip “  precip days snowfall  \\\n",
       "1  Albuquerque  35.7   55.6  78.5  57.3      9.47           60       11   \n",
       "4      Atlanta  42.7   61.6  80.0  62.8     50.20          115      2.1   \n",
       "6       Austin  50.2   68.3  84.2  70.6     33.65           85      0.9   \n",
       "7    Baltimore  32.3   53.2  76.5  55.4     41.94          115     21.5   \n",
       "8  Baton Rouge  50.1   66.6  81.7  68.1     63.08          110      0.2   \n",
       "\n",
       "    rank state  ...  Growth / Decline  Rank_y  Population (2013)  \\\n",
       "1   32.0    NM  ...            9565.0    32.0           556495.0   \n",
       "4   37.0    GA  ...           23772.0    40.0           447841.0   \n",
       "6   10.0    TX  ...           52202.0    12.0           885400.0   \n",
       "7   31.0    MD  ...             381.0    26.0           622104.0   \n",
       "8  108.0    LA  ...             565.0    92.0           229426.0   \n",
       "\n",
       "           Budget                     Mayor  Took office  Term ends  \\\n",
       "1    $893,000,000            Tim Keller (D)       2017.0     2022.0   \n",
       "4    $533,000,000        Keisha Bottoms (D)       2018.0     2022.0   \n",
       "6  $3,500,000,000         Stephen Adler (D)       2015.0     2023.0   \n",
       "7  $1,648,000,000      Brandon M. Scott (D)       2020.0     2024.0   \n",
       "8    $830,000,000  Sharon Weston Broome (D)       2017.0     2024.0   \n",
       "\n",
       "   Government type  City elections in 2021?  Mayoral election in 2021?  \n",
       "1     Strong mayor                      Yes                        Yes  \n",
       "4     Strong mayor                      Yes                        Yes  \n",
       "6     Strong mayor                       No                         No  \n",
       "7     Strong mayor                       No                         No  \n",
       "8     Strong mayor                      Yes                         No  \n",
       "\n",
       "[5 rows x 27 columns]"
      ]
     },
     "execution_count": 16,
     "metadata": {},
     "output_type": "execute_result"
    }
   ],
   "source": [
    "env.head()"
   ]
  },
  {
   "cell_type": "code",
   "execution_count": 17,
   "id": "7f2ca8ae-76f9-45d7-ae35-680587da3c21",
   "metadata": {},
   "outputs": [],
   "source": [
    "homelessness['state'] = homelessness['state'].str.lower()\n",
    "homelessness['city'] = homelessness['city'].str.lower()\n",
    "env['city'] = env['city'].str.lower()\n",
    "env['state'] = env['state'].str.lower()"
   ]
  },
  {
   "cell_type": "code",
   "execution_count": 18,
   "id": "1616c750-c121-4a8d-92dd-1b07a386cb49",
   "metadata": {},
   "outputs": [
    {
     "data": {
      "text/plain": [
       "7"
      ]
     },
     "execution_count": 18,
     "metadata": {},
     "output_type": "execute_result"
    }
   ],
   "source": [
    "homelessness['overall homeless'].isnull().sum()"
   ]
  },
  {
   "cell_type": "code",
   "execution_count": 19,
   "id": "f6c545a6-8dad-41da-b975-4b0be8e70430",
   "metadata": {},
   "outputs": [
    {
     "data": {
      "text/plain": [
       "(352, 571)"
      ]
     },
     "execution_count": 19,
     "metadata": {},
     "output_type": "execute_result"
    }
   ],
   "source": [
    "df = pd.merge(env, homelessness, on=['city', 'state'], how='left')\n",
    "df.shape"
   ]
  },
  {
   "cell_type": "code",
   "execution_count": 20,
   "id": "1477591e-8bb3-4e99-b894-2bd386a3670c",
   "metadata": {},
   "outputs": [
    {
     "data": {
      "text/plain": [
       "2"
      ]
     },
     "execution_count": 20,
     "metadata": {},
     "output_type": "execute_result"
    }
   ],
   "source": [
    "df['overall homeless'].isnull().sum()"
   ]
  },
  {
   "cell_type": "code",
   "execution_count": 21,
   "id": "a329b6ee-a68b-48be-b5c8-c2e732b905af",
   "metadata": {},
   "outputs": [
    {
     "data": {
      "text/plain": [
       "1        albuquerque\n",
       "4            atlanta\n",
       "6             austin\n",
       "7          baltimore\n",
       "8        baton rouge\n",
       "10        birmingham\n",
       "12             boise\n",
       "13            boston\n",
       "15           buffalo\n",
       "21         charlotte\n",
       "23           chicago\n",
       "24         cleveland\n",
       "26          columbus\n",
       "27          columbus\n",
       "30            denver\n",
       "32           detroit\n",
       "35           el paso\n",
       "42          honolulu\n",
       "43           houston\n",
       "44      indianapolis\n",
       "46      jacksonville\n",
       "51         las vegas\n",
       "54        long beach\n",
       "55       los angeles\n",
       "57           madison\n",
       "58           memphis\n",
       "59             miami\n",
       "60         milwaukee\n",
       "66            newark\n",
       "67       new orleans\n",
       "68          new york\n",
       "69           norfolk\n",
       "72             omaha\n",
       "73      philadelphia\n",
       "74           phoenix\n",
       "75        pittsburgh\n",
       "76          portland\n",
       "77          portland\n",
       "79           raleigh\n",
       "80              reno\n",
       "83        sacramento\n",
       "85       san antonio\n",
       "86         san diego\n",
       "87     san francisco\n",
       "94         st. louis\n",
       "95             tampa\n",
       "96            toledo\n",
       "97            tucson\n",
       "98             tulsa\n",
       "101          wichita\n",
       "Name: city, dtype: object"
      ]
     },
     "execution_count": 21,
     "metadata": {},
     "output_type": "execute_result"
    }
   ],
   "source": [
    "env['city']"
   ]
  },
  {
   "cell_type": "code",
   "execution_count": null,
   "id": "addd90e0-dd3d-4753-a0dd-ceeea02210a4",
   "metadata": {},
   "outputs": [],
   "source": []
  },
  {
   "cell_type": "code",
   "execution_count": null,
   "id": "c9014235-c358-47a7-89ce-7c752be9df78",
   "metadata": {},
   "outputs": [],
   "source": []
  },
  {
   "cell_type": "code",
   "execution_count": 22,
   "id": "e2c578b3-5564-4b54-bda9-bd35a7e7592b",
   "metadata": {},
   "outputs": [],
   "source": [
    "econ2017.columns=econ2017.columns.str.lower()"
   ]
  },
  {
   "cell_type": "code",
   "execution_count": 23,
   "id": "c26f3151-dedc-4ee1-b00b-30c1b3d372ec",
   "metadata": {},
   "outputs": [
    {
     "data": {
      "text/plain": [
       "(352, 571)"
      ]
     },
     "execution_count": 23,
     "metadata": {},
     "output_type": "execute_result"
    }
   ],
   "source": [
    "df.shape"
   ]
  },
  {
   "cell_type": "code",
   "execution_count": 24,
   "id": "0e026f8e-0a64-49a0-9bb5-2fefe4e44125",
   "metadata": {},
   "outputs": [
    {
     "data": {
      "text/plain": [
       "Index(['city', 'state', 'median household income (dollars)', 'monthly cost',\n",
       "       'owner occupied income', 'owner occupied cost',\n",
       "       'renter occupied income', 'renter occupied cost', 'year',\n",
       "       'city, state'],\n",
       "      dtype='object')"
      ]
     },
     "execution_count": 24,
     "metadata": {},
     "output_type": "execute_result"
    }
   ],
   "source": [
    "econ2017.columns"
   ]
  },
  {
   "cell_type": "code",
   "execution_count": 25,
   "id": "28e7c824-8245-40ce-bf10-1bf8ededc2fa",
   "metadata": {},
   "outputs": [
    {
     "data": {
      "text/plain": [
       "Index(['city', 'Jan', 'April', 'July', 'Oct ', 'Precip “', 'precip days',\n",
       "       'snowfall', 'rank', 'state',\n",
       "       ...\n",
       "       'unsheltered homeless parenting youth (under 25) - gender non-conforming',\n",
       "       'unsheltered homeless parenting youth (under 25) - non-hispanic/non-latino',\n",
       "       'unsheltered homeless parenting youth (under 25) - hispanic/latino',\n",
       "       'unsheltered homeless parenting youth (under 25) - white',\n",
       "       'unsheltered homeless parenting youth (under 25) - black or african american',\n",
       "       'unsheltered homeless parenting youth (under 25) - asian',\n",
       "       'unsheltered homeless parenting youth (under 25) - american indian or alaska native',\n",
       "       'unsheltered homeless parenting youth (under 25) - native hawaiian or other pacific islander',\n",
       "       'unsheltered homeless parenting youth (under 25) - multiple races',\n",
       "       'coc category'],\n",
       "      dtype='object', length=571)"
      ]
     },
     "execution_count": 25,
     "metadata": {},
     "output_type": "execute_result"
    }
   ],
   "source": [
    "df.columns"
   ]
  },
  {
   "cell_type": "code",
   "execution_count": 26,
   "id": "d71ff178-bd7d-4f39-8a65-9ae4ff1b918d",
   "metadata": {},
   "outputs": [],
   "source": [
    "df = pd.merge(df, econ2017, on=['city', 'state'], how='left')"
   ]
  },
  {
   "cell_type": "code",
   "execution_count": 27,
   "id": "d8c756a0-c18b-40c1-9790-049836fe9fda",
   "metadata": {},
   "outputs": [
    {
     "data": {
      "text/plain": [
       "(352, 579)"
      ]
     },
     "execution_count": 27,
     "metadata": {},
     "output_type": "execute_result"
    }
   ],
   "source": [
    "df.shape"
   ]
  },
  {
   "cell_type": "code",
   "execution_count": 43,
   "id": "e549c038-9306-4436-b5b0-7e546965a943",
   "metadata": {},
   "outputs": [
    {
     "data": {
      "text/plain": [
       "(16, 571)"
      ]
     },
     "execution_count": 43,
     "metadata": {},
     "output_type": "execute_result"
    }
   ],
   "source": [
    "df.dropna().shape"
   ]
  },
  {
   "cell_type": "code",
   "execution_count": 44,
   "id": "78941f9f-2026-48c6-9589-cdf902ed3030",
   "metadata": {},
   "outputs": [
    {
     "ename": "KeyError",
     "evalue": "\"['Mayor' 'City elections in 2021?' 'coc number' 'coc name' 'coc category'\\n 'year_y' 'Mayoral election in 2021?' 'city, state'] not found in axis\"",
     "output_type": "error",
     "traceback": [
      "\u001b[0;31m---------------------------------------------------------------------------\u001b[0m",
      "\u001b[0;31mKeyError\u001b[0m                                  Traceback (most recent call last)",
      "\u001b[0;32m<ipython-input-44-2d5b0ac1097b>\u001b[0m in \u001b[0;36m<module>\u001b[0;34m\u001b[0m\n\u001b[0;32m----> 1\u001b[0;31m \u001b[0mdf\u001b[0m \u001b[0;34m=\u001b[0m \u001b[0mdf\u001b[0m\u001b[0;34m.\u001b[0m\u001b[0mdrop\u001b[0m\u001b[0;34m(\u001b[0m\u001b[0mcolumns\u001b[0m\u001b[0;34m=\u001b[0m \u001b[0;34m[\u001b[0m\u001b[0;34m'Mayor'\u001b[0m\u001b[0;34m,\u001b[0m \u001b[0;34m'City elections in 2021?'\u001b[0m\u001b[0;34m,\u001b[0m \u001b[0;34m'coc number'\u001b[0m\u001b[0;34m,\u001b[0m \u001b[0;34m'coc name'\u001b[0m\u001b[0;34m,\u001b[0m \u001b[0;34m'coc category'\u001b[0m\u001b[0;34m,\u001b[0m \u001b[0;34m'year_y'\u001b[0m\u001b[0;34m,\u001b[0m \u001b[0;34m'Mayoral election in 2021?'\u001b[0m\u001b[0;34m,\u001b[0m \u001b[0;34m'city, state'\u001b[0m\u001b[0;34m]\u001b[0m\u001b[0;34m)\u001b[0m\u001b[0;34m\u001b[0m\u001b[0;34m\u001b[0m\u001b[0m\n\u001b[0m",
      "\u001b[0;32m~/anaconda3/envs/dsi/lib/python3.8/site-packages/pandas/util/_decorators.py\u001b[0m in \u001b[0;36mwrapper\u001b[0;34m(*args, **kwargs)\u001b[0m\n\u001b[1;32m    309\u001b[0m                     \u001b[0mstacklevel\u001b[0m\u001b[0;34m=\u001b[0m\u001b[0mstacklevel\u001b[0m\u001b[0;34m,\u001b[0m\u001b[0;34m\u001b[0m\u001b[0;34m\u001b[0m\u001b[0m\n\u001b[1;32m    310\u001b[0m                 )\n\u001b[0;32m--> 311\u001b[0;31m             \u001b[0;32mreturn\u001b[0m \u001b[0mfunc\u001b[0m\u001b[0;34m(\u001b[0m\u001b[0;34m*\u001b[0m\u001b[0margs\u001b[0m\u001b[0;34m,\u001b[0m \u001b[0;34m**\u001b[0m\u001b[0mkwargs\u001b[0m\u001b[0;34m)\u001b[0m\u001b[0;34m\u001b[0m\u001b[0;34m\u001b[0m\u001b[0m\n\u001b[0m\u001b[1;32m    312\u001b[0m \u001b[0;34m\u001b[0m\u001b[0m\n\u001b[1;32m    313\u001b[0m         \u001b[0;32mreturn\u001b[0m \u001b[0mwrapper\u001b[0m\u001b[0;34m\u001b[0m\u001b[0;34m\u001b[0m\u001b[0m\n",
      "\u001b[0;32m~/anaconda3/envs/dsi/lib/python3.8/site-packages/pandas/core/frame.py\u001b[0m in \u001b[0;36mdrop\u001b[0;34m(self, labels, axis, index, columns, level, inplace, errors)\u001b[0m\n\u001b[1;32m   4899\u001b[0m                 \u001b[0mweight\u001b[0m  \u001b[0;36m1.0\u001b[0m     \u001b[0;36m0.8\u001b[0m\u001b[0;34m\u001b[0m\u001b[0;34m\u001b[0m\u001b[0m\n\u001b[1;32m   4900\u001b[0m         \"\"\"\n\u001b[0;32m-> 4901\u001b[0;31m         return super().drop(\n\u001b[0m\u001b[1;32m   4902\u001b[0m             \u001b[0mlabels\u001b[0m\u001b[0;34m=\u001b[0m\u001b[0mlabels\u001b[0m\u001b[0;34m,\u001b[0m\u001b[0;34m\u001b[0m\u001b[0;34m\u001b[0m\u001b[0m\n\u001b[1;32m   4903\u001b[0m             \u001b[0maxis\u001b[0m\u001b[0;34m=\u001b[0m\u001b[0maxis\u001b[0m\u001b[0;34m,\u001b[0m\u001b[0;34m\u001b[0m\u001b[0;34m\u001b[0m\u001b[0m\n",
      "\u001b[0;32m~/anaconda3/envs/dsi/lib/python3.8/site-packages/pandas/core/generic.py\u001b[0m in \u001b[0;36mdrop\u001b[0;34m(self, labels, axis, index, columns, level, inplace, errors)\u001b[0m\n\u001b[1;32m   4145\u001b[0m         \u001b[0;32mfor\u001b[0m \u001b[0maxis\u001b[0m\u001b[0;34m,\u001b[0m \u001b[0mlabels\u001b[0m \u001b[0;32min\u001b[0m \u001b[0maxes\u001b[0m\u001b[0;34m.\u001b[0m\u001b[0mitems\u001b[0m\u001b[0;34m(\u001b[0m\u001b[0;34m)\u001b[0m\u001b[0;34m:\u001b[0m\u001b[0;34m\u001b[0m\u001b[0;34m\u001b[0m\u001b[0m\n\u001b[1;32m   4146\u001b[0m             \u001b[0;32mif\u001b[0m \u001b[0mlabels\u001b[0m \u001b[0;32mis\u001b[0m \u001b[0;32mnot\u001b[0m \u001b[0;32mNone\u001b[0m\u001b[0;34m:\u001b[0m\u001b[0;34m\u001b[0m\u001b[0;34m\u001b[0m\u001b[0m\n\u001b[0;32m-> 4147\u001b[0;31m                 \u001b[0mobj\u001b[0m \u001b[0;34m=\u001b[0m \u001b[0mobj\u001b[0m\u001b[0;34m.\u001b[0m\u001b[0m_drop_axis\u001b[0m\u001b[0;34m(\u001b[0m\u001b[0mlabels\u001b[0m\u001b[0;34m,\u001b[0m \u001b[0maxis\u001b[0m\u001b[0;34m,\u001b[0m \u001b[0mlevel\u001b[0m\u001b[0;34m=\u001b[0m\u001b[0mlevel\u001b[0m\u001b[0;34m,\u001b[0m \u001b[0merrors\u001b[0m\u001b[0;34m=\u001b[0m\u001b[0merrors\u001b[0m\u001b[0;34m)\u001b[0m\u001b[0;34m\u001b[0m\u001b[0;34m\u001b[0m\u001b[0m\n\u001b[0m\u001b[1;32m   4148\u001b[0m \u001b[0;34m\u001b[0m\u001b[0m\n\u001b[1;32m   4149\u001b[0m         \u001b[0;32mif\u001b[0m \u001b[0minplace\u001b[0m\u001b[0;34m:\u001b[0m\u001b[0;34m\u001b[0m\u001b[0;34m\u001b[0m\u001b[0m\n",
      "\u001b[0;32m~/anaconda3/envs/dsi/lib/python3.8/site-packages/pandas/core/generic.py\u001b[0m in \u001b[0;36m_drop_axis\u001b[0;34m(self, labels, axis, level, errors)\u001b[0m\n\u001b[1;32m   4180\u001b[0m                 \u001b[0mnew_axis\u001b[0m \u001b[0;34m=\u001b[0m \u001b[0maxis\u001b[0m\u001b[0;34m.\u001b[0m\u001b[0mdrop\u001b[0m\u001b[0;34m(\u001b[0m\u001b[0mlabels\u001b[0m\u001b[0;34m,\u001b[0m \u001b[0mlevel\u001b[0m\u001b[0;34m=\u001b[0m\u001b[0mlevel\u001b[0m\u001b[0;34m,\u001b[0m \u001b[0merrors\u001b[0m\u001b[0;34m=\u001b[0m\u001b[0merrors\u001b[0m\u001b[0;34m)\u001b[0m\u001b[0;34m\u001b[0m\u001b[0;34m\u001b[0m\u001b[0m\n\u001b[1;32m   4181\u001b[0m             \u001b[0;32melse\u001b[0m\u001b[0;34m:\u001b[0m\u001b[0;34m\u001b[0m\u001b[0;34m\u001b[0m\u001b[0m\n\u001b[0;32m-> 4182\u001b[0;31m                 \u001b[0mnew_axis\u001b[0m \u001b[0;34m=\u001b[0m \u001b[0maxis\u001b[0m\u001b[0;34m.\u001b[0m\u001b[0mdrop\u001b[0m\u001b[0;34m(\u001b[0m\u001b[0mlabels\u001b[0m\u001b[0;34m,\u001b[0m \u001b[0merrors\u001b[0m\u001b[0;34m=\u001b[0m\u001b[0merrors\u001b[0m\u001b[0;34m)\u001b[0m\u001b[0;34m\u001b[0m\u001b[0;34m\u001b[0m\u001b[0m\n\u001b[0m\u001b[1;32m   4183\u001b[0m             \u001b[0mresult\u001b[0m \u001b[0;34m=\u001b[0m \u001b[0mself\u001b[0m\u001b[0;34m.\u001b[0m\u001b[0mreindex\u001b[0m\u001b[0;34m(\u001b[0m\u001b[0;34m**\u001b[0m\u001b[0;34m{\u001b[0m\u001b[0maxis_name\u001b[0m\u001b[0;34m:\u001b[0m \u001b[0mnew_axis\u001b[0m\u001b[0;34m}\u001b[0m\u001b[0;34m)\u001b[0m\u001b[0;34m\u001b[0m\u001b[0;34m\u001b[0m\u001b[0m\n\u001b[1;32m   4184\u001b[0m \u001b[0;34m\u001b[0m\u001b[0m\n",
      "\u001b[0;32m~/anaconda3/envs/dsi/lib/python3.8/site-packages/pandas/core/indexes/base.py\u001b[0m in \u001b[0;36mdrop\u001b[0;34m(self, labels, errors)\u001b[0m\n\u001b[1;32m   6016\u001b[0m         \u001b[0;32mif\u001b[0m \u001b[0mmask\u001b[0m\u001b[0;34m.\u001b[0m\u001b[0many\u001b[0m\u001b[0;34m(\u001b[0m\u001b[0;34m)\u001b[0m\u001b[0;34m:\u001b[0m\u001b[0;34m\u001b[0m\u001b[0;34m\u001b[0m\u001b[0m\n\u001b[1;32m   6017\u001b[0m             \u001b[0;32mif\u001b[0m \u001b[0merrors\u001b[0m \u001b[0;34m!=\u001b[0m \u001b[0;34m\"ignore\"\u001b[0m\u001b[0;34m:\u001b[0m\u001b[0;34m\u001b[0m\u001b[0;34m\u001b[0m\u001b[0m\n\u001b[0;32m-> 6018\u001b[0;31m                 \u001b[0;32mraise\u001b[0m \u001b[0mKeyError\u001b[0m\u001b[0;34m(\u001b[0m\u001b[0;34mf\"{labels[mask]} not found in axis\"\u001b[0m\u001b[0;34m)\u001b[0m\u001b[0;34m\u001b[0m\u001b[0;34m\u001b[0m\u001b[0m\n\u001b[0m\u001b[1;32m   6019\u001b[0m             \u001b[0mindexer\u001b[0m \u001b[0;34m=\u001b[0m \u001b[0mindexer\u001b[0m\u001b[0;34m[\u001b[0m\u001b[0;34m~\u001b[0m\u001b[0mmask\u001b[0m\u001b[0;34m]\u001b[0m\u001b[0;34m\u001b[0m\u001b[0;34m\u001b[0m\u001b[0m\n\u001b[1;32m   6020\u001b[0m         \u001b[0;32mreturn\u001b[0m \u001b[0mself\u001b[0m\u001b[0;34m.\u001b[0m\u001b[0mdelete\u001b[0m\u001b[0;34m(\u001b[0m\u001b[0mindexer\u001b[0m\u001b[0;34m)\u001b[0m\u001b[0;34m\u001b[0m\u001b[0;34m\u001b[0m\u001b[0m\n",
      "\u001b[0;31mKeyError\u001b[0m: \"['Mayor' 'City elections in 2021?' 'coc number' 'coc name' 'coc category'\\n 'year_y' 'Mayoral election in 2021?' 'city, state'] not found in axis\""
     ]
    }
   ],
   "source": [
    "df = df.drop(columns= ['Mayor', 'City elections in 2021?', 'coc number', 'coc name', 'coc category', 'year_y', 'Mayoral election in 2021?', 'city, state'])\n"
   ]
  },
  {
   "cell_type": "code",
   "execution_count": 45,
   "id": "939b57e4-980b-4052-b49a-154d71dadd89",
   "metadata": {},
   "outputs": [
    {
     "data": {
      "text/html": [
       "<div>\n",
       "<style scoped>\n",
       "    .dataframe tbody tr th:only-of-type {\n",
       "        vertical-align: middle;\n",
       "    }\n",
       "\n",
       "    .dataframe tbody tr th {\n",
       "        vertical-align: top;\n",
       "    }\n",
       "\n",
       "    .dataframe thead th {\n",
       "        text-align: right;\n",
       "    }\n",
       "</style>\n",
       "<table border=\"1\" class=\"dataframe\">\n",
       "  <thead>\n",
       "    <tr style=\"text-align: right;\">\n",
       "      <th></th>\n",
       "      <th>city</th>\n",
       "      <th>state</th>\n",
       "      <th>government type</th>\n",
       "    </tr>\n",
       "  </thead>\n",
       "  <tbody>\n",
       "    <tr>\n",
       "      <th>0</th>\n",
       "      <td>albuquerque</td>\n",
       "      <td>nm</td>\n",
       "      <td>Strong mayor</td>\n",
       "    </tr>\n",
       "    <tr>\n",
       "      <th>1</th>\n",
       "      <td>albuquerque</td>\n",
       "      <td>nm</td>\n",
       "      <td>Strong mayor</td>\n",
       "    </tr>\n",
       "  </tbody>\n",
       "</table>\n",
       "</div>"
      ],
      "text/plain": [
       "          city state government type\n",
       "0  albuquerque    nm    Strong mayor\n",
       "1  albuquerque    nm    Strong mayor"
      ]
     },
     "execution_count": 45,
     "metadata": {},
     "output_type": "execute_result"
    }
   ],
   "source": [
    "df.select_dtypes(object).head(2)"
   ]
  },
  {
   "cell_type": "code",
   "execution_count": 46,
   "id": "c3add94a-7606-4055-a583-f0c710082823",
   "metadata": {},
   "outputs": [],
   "source": [
    "df.columns = df.columns.str.lower()"
   ]
  },
  {
   "cell_type": "code",
   "execution_count": 47,
   "id": "036f5b05-d085-443c-9d2c-8b724440ccf0",
   "metadata": {},
   "outputs": [],
   "source": [
    "df['snowfall'] = df['snowfall'].map({'trace': 0})\n",
    "df['snowfall'] = df['snowfall'].astype(float)"
   ]
  },
  {
   "cell_type": "code",
   "execution_count": 33,
   "id": "2cb5ae06-769f-4175-a604-3b1fcefc7340",
   "metadata": {},
   "outputs": [
    {
     "ename": "AttributeError",
     "evalue": "Can only use .str accessor with string values!",
     "output_type": "error",
     "traceback": [
      "\u001b[0;31m---------------------------------------------------------------------------\u001b[0m",
      "\u001b[0;31mAttributeError\u001b[0m                            Traceback (most recent call last)",
      "\u001b[0;32m<ipython-input-48-480cb301328a>\u001b[0m in \u001b[0;36m<module>\u001b[0;34m\u001b[0m\n\u001b[0;32m----> 1\u001b[0;31m \u001b[0mdf\u001b[0m\u001b[0;34m[\u001b[0m\u001b[0;34m'budget'\u001b[0m\u001b[0;34m]\u001b[0m \u001b[0;34m=\u001b[0m \u001b[0mdf\u001b[0m\u001b[0;34m[\u001b[0m\u001b[0;34m'budget'\u001b[0m\u001b[0;34m]\u001b[0m\u001b[0;34m.\u001b[0m\u001b[0mstr\u001b[0m\u001b[0;34m.\u001b[0m\u001b[0mreplace\u001b[0m\u001b[0;34m(\u001b[0m\u001b[0;34m'$'\u001b[0m\u001b[0;34m,\u001b[0m \u001b[0;34m''\u001b[0m\u001b[0;34m)\u001b[0m\u001b[0;34m\u001b[0m\u001b[0;34m\u001b[0m\u001b[0m\n\u001b[0m\u001b[1;32m      2\u001b[0m \u001b[0mdf\u001b[0m\u001b[0;34m[\u001b[0m\u001b[0;34m'budget'\u001b[0m\u001b[0;34m]\u001b[0m \u001b[0;34m=\u001b[0m \u001b[0mdf\u001b[0m\u001b[0;34m[\u001b[0m\u001b[0;34m'budget'\u001b[0m\u001b[0;34m]\u001b[0m\u001b[0;34m.\u001b[0m\u001b[0mstr\u001b[0m\u001b[0;34m.\u001b[0m\u001b[0mreplace\u001b[0m\u001b[0;34m(\u001b[0m\u001b[0;34m','\u001b[0m\u001b[0;34m,\u001b[0m \u001b[0;34m''\u001b[0m\u001b[0;34m)\u001b[0m\u001b[0;34m\u001b[0m\u001b[0;34m\u001b[0m\u001b[0m\n",
      "\u001b[0;32m~/anaconda3/envs/dsi/lib/python3.8/site-packages/pandas/core/generic.py\u001b[0m in \u001b[0;36m__getattr__\u001b[0;34m(self, name)\u001b[0m\n\u001b[1;32m   5476\u001b[0m         ):\n\u001b[1;32m   5477\u001b[0m             \u001b[0;32mreturn\u001b[0m \u001b[0mself\u001b[0m\u001b[0;34m[\u001b[0m\u001b[0mname\u001b[0m\u001b[0;34m]\u001b[0m\u001b[0;34m\u001b[0m\u001b[0;34m\u001b[0m\u001b[0m\n\u001b[0;32m-> 5478\u001b[0;31m         \u001b[0;32mreturn\u001b[0m \u001b[0mobject\u001b[0m\u001b[0;34m.\u001b[0m\u001b[0m__getattribute__\u001b[0m\u001b[0;34m(\u001b[0m\u001b[0mself\u001b[0m\u001b[0;34m,\u001b[0m \u001b[0mname\u001b[0m\u001b[0;34m)\u001b[0m\u001b[0;34m\u001b[0m\u001b[0;34m\u001b[0m\u001b[0m\n\u001b[0m\u001b[1;32m   5479\u001b[0m \u001b[0;34m\u001b[0m\u001b[0m\n\u001b[1;32m   5480\u001b[0m     \u001b[0;32mdef\u001b[0m \u001b[0m__setattr__\u001b[0m\u001b[0;34m(\u001b[0m\u001b[0mself\u001b[0m\u001b[0;34m,\u001b[0m \u001b[0mname\u001b[0m\u001b[0;34m:\u001b[0m \u001b[0mstr\u001b[0m\u001b[0;34m,\u001b[0m \u001b[0mvalue\u001b[0m\u001b[0;34m)\u001b[0m \u001b[0;34m->\u001b[0m \u001b[0;32mNone\u001b[0m\u001b[0;34m:\u001b[0m\u001b[0;34m\u001b[0m\u001b[0;34m\u001b[0m\u001b[0m\n",
      "\u001b[0;32m~/anaconda3/envs/dsi/lib/python3.8/site-packages/pandas/core/accessor.py\u001b[0m in \u001b[0;36m__get__\u001b[0;34m(self, obj, cls)\u001b[0m\n\u001b[1;32m    179\u001b[0m             \u001b[0;31m# we're accessing the attribute of the class, i.e., Dataset.geo\u001b[0m\u001b[0;34m\u001b[0m\u001b[0;34m\u001b[0m\u001b[0;34m\u001b[0m\u001b[0m\n\u001b[1;32m    180\u001b[0m             \u001b[0;32mreturn\u001b[0m \u001b[0mself\u001b[0m\u001b[0;34m.\u001b[0m\u001b[0m_accessor\u001b[0m\u001b[0;34m\u001b[0m\u001b[0;34m\u001b[0m\u001b[0m\n\u001b[0;32m--> 181\u001b[0;31m         \u001b[0maccessor_obj\u001b[0m \u001b[0;34m=\u001b[0m \u001b[0mself\u001b[0m\u001b[0;34m.\u001b[0m\u001b[0m_accessor\u001b[0m\u001b[0;34m(\u001b[0m\u001b[0mobj\u001b[0m\u001b[0;34m)\u001b[0m\u001b[0;34m\u001b[0m\u001b[0;34m\u001b[0m\u001b[0m\n\u001b[0m\u001b[1;32m    182\u001b[0m         \u001b[0;31m# Replace the property with the accessor object. Inspired by:\u001b[0m\u001b[0;34m\u001b[0m\u001b[0;34m\u001b[0m\u001b[0;34m\u001b[0m\u001b[0m\n\u001b[1;32m    183\u001b[0m         \u001b[0;31m# https://www.pydanny.com/cached-property.html\u001b[0m\u001b[0;34m\u001b[0m\u001b[0;34m\u001b[0m\u001b[0;34m\u001b[0m\u001b[0m\n",
      "\u001b[0;32m~/anaconda3/envs/dsi/lib/python3.8/site-packages/pandas/core/strings/accessor.py\u001b[0m in \u001b[0;36m__init__\u001b[0;34m(self, data)\u001b[0m\n\u001b[1;32m    166\u001b[0m         \u001b[0;32mfrom\u001b[0m \u001b[0mpandas\u001b[0m\u001b[0;34m.\u001b[0m\u001b[0mcore\u001b[0m\u001b[0;34m.\u001b[0m\u001b[0marrays\u001b[0m\u001b[0;34m.\u001b[0m\u001b[0mstring_\u001b[0m \u001b[0;32mimport\u001b[0m \u001b[0mStringDtype\u001b[0m\u001b[0;34m\u001b[0m\u001b[0;34m\u001b[0m\u001b[0m\n\u001b[1;32m    167\u001b[0m \u001b[0;34m\u001b[0m\u001b[0m\n\u001b[0;32m--> 168\u001b[0;31m         \u001b[0mself\u001b[0m\u001b[0;34m.\u001b[0m\u001b[0m_inferred_dtype\u001b[0m \u001b[0;34m=\u001b[0m \u001b[0mself\u001b[0m\u001b[0;34m.\u001b[0m\u001b[0m_validate\u001b[0m\u001b[0;34m(\u001b[0m\u001b[0mdata\u001b[0m\u001b[0;34m)\u001b[0m\u001b[0;34m\u001b[0m\u001b[0;34m\u001b[0m\u001b[0m\n\u001b[0m\u001b[1;32m    169\u001b[0m         \u001b[0mself\u001b[0m\u001b[0;34m.\u001b[0m\u001b[0m_is_categorical\u001b[0m \u001b[0;34m=\u001b[0m \u001b[0mis_categorical_dtype\u001b[0m\u001b[0;34m(\u001b[0m\u001b[0mdata\u001b[0m\u001b[0;34m.\u001b[0m\u001b[0mdtype\u001b[0m\u001b[0;34m)\u001b[0m\u001b[0;34m\u001b[0m\u001b[0;34m\u001b[0m\u001b[0m\n\u001b[1;32m    170\u001b[0m         \u001b[0mself\u001b[0m\u001b[0;34m.\u001b[0m\u001b[0m_is_string\u001b[0m \u001b[0;34m=\u001b[0m \u001b[0misinstance\u001b[0m\u001b[0;34m(\u001b[0m\u001b[0mdata\u001b[0m\u001b[0;34m.\u001b[0m\u001b[0mdtype\u001b[0m\u001b[0;34m,\u001b[0m \u001b[0mStringDtype\u001b[0m\u001b[0;34m)\u001b[0m\u001b[0;34m\u001b[0m\u001b[0;34m\u001b[0m\u001b[0m\n",
      "\u001b[0;32m~/anaconda3/envs/dsi/lib/python3.8/site-packages/pandas/core/strings/accessor.py\u001b[0m in \u001b[0;36m_validate\u001b[0;34m(data)\u001b[0m\n\u001b[1;32m    223\u001b[0m \u001b[0;34m\u001b[0m\u001b[0m\n\u001b[1;32m    224\u001b[0m         \u001b[0;32mif\u001b[0m \u001b[0minferred_dtype\u001b[0m \u001b[0;32mnot\u001b[0m \u001b[0;32min\u001b[0m \u001b[0mallowed_types\u001b[0m\u001b[0;34m:\u001b[0m\u001b[0;34m\u001b[0m\u001b[0;34m\u001b[0m\u001b[0m\n\u001b[0;32m--> 225\u001b[0;31m             \u001b[0;32mraise\u001b[0m \u001b[0mAttributeError\u001b[0m\u001b[0;34m(\u001b[0m\u001b[0;34m\"Can only use .str accessor with string values!\"\u001b[0m\u001b[0;34m)\u001b[0m\u001b[0;34m\u001b[0m\u001b[0;34m\u001b[0m\u001b[0m\n\u001b[0m\u001b[1;32m    226\u001b[0m         \u001b[0;32mreturn\u001b[0m \u001b[0minferred_dtype\u001b[0m\u001b[0;34m\u001b[0m\u001b[0;34m\u001b[0m\u001b[0m\n\u001b[1;32m    227\u001b[0m \u001b[0;34m\u001b[0m\u001b[0m\n",
      "\u001b[0;31mAttributeError\u001b[0m: Can only use .str accessor with string values!"
     ]
    }
   ],
   "source": [
    "df['budget'] = df['budget'].str.replace('$', '')\n",
    "df['budget'] = df['budget'].str.replace(',', '')"
   ]
  },
  {
   "cell_type": "code",
   "execution_count": 34,
   "id": "2d6df0e8-7721-48d6-a879-1acf6802df65",
   "metadata": {},
   "outputs": [
    {
     "data": {
      "text/html": [
       "<div>\n",
       "<style scoped>\n",
       "    .dataframe tbody tr th:only-of-type {\n",
       "        vertical-align: middle;\n",
       "    }\n",
       "\n",
       "    .dataframe tbody tr th {\n",
       "        vertical-align: top;\n",
       "    }\n",
       "\n",
       "    .dataframe thead th {\n",
       "        text-align: right;\n",
       "    }\n",
       "</style>\n",
       "<table border=\"1\" class=\"dataframe\">\n",
       "  <thead>\n",
       "    <tr style=\"text-align: right;\">\n",
       "      <th></th>\n",
       "      <th>city</th>\n",
       "      <th>state</th>\n",
       "      <th>government type</th>\n",
       "    </tr>\n",
       "  </thead>\n",
       "  <tbody>\n",
       "    <tr>\n",
       "      <th>0</th>\n",
       "      <td>albuquerque</td>\n",
       "      <td>nm</td>\n",
       "      <td>Strong mayor</td>\n",
       "    </tr>\n",
       "    <tr>\n",
       "      <th>1</th>\n",
       "      <td>albuquerque</td>\n",
       "      <td>nm</td>\n",
       "      <td>Strong mayor</td>\n",
       "    </tr>\n",
       "  </tbody>\n",
       "</table>\n",
       "</div>"
      ],
      "text/plain": [
       "          city state government type\n",
       "0  albuquerque    nm    Strong mayor\n",
       "1  albuquerque    nm    Strong mayor"
      ]
     },
     "execution_count": 49,
     "metadata": {},
     "output_type": "execute_result"
    }
   ],
   "source": [
    "df.select_dtypes(object).head(2)"
   ]
  },
  {
   "cell_type": "code",
   "execution_count": 35,
   "id": "71bb82fa-1997-4329-88fd-e8ad982d3c7f",
   "metadata": {},
   "outputs": [],
   "source": [
    "df['budget'] = df['budget'].astype(int) / 1_000_000"
   ]
  },
  {
   "cell_type": "code",
   "execution_count": 36,
   "id": "609c4eab-1fcf-4ea0-b2ff-a21ec3597948",
   "metadata": {},
   "outputs": [],
   "source": [
    "df['budget'] = df['budget'].astype(int)"
   ]
  },
  {
   "cell_type": "code",
   "execution_count": 37,
   "id": "93706de2-c12e-40c4-a467-e09a9e8fb800",
   "metadata": {},
   "outputs": [
    {
     "data": {
      "text/plain": [
       "0    0\n",
       "1    0\n",
       "2    0\n",
       "Name: budget, dtype: int64"
      ]
     },
     "execution_count": 52,
     "metadata": {},
     "output_type": "execute_result"
    }
   ],
   "source": [
    "\n",
    "df['budget'].head(3)"
   ]
  },
  {
   "cell_type": "code",
   "execution_count": 38,
   "id": "a55d5dd6-683a-4657-ad5c-25782227621f",
   "metadata": {},
   "outputs": [
    {
     "data": {
      "text/plain": [
       "jan                         0\n",
       "april                       0\n",
       "july                        0\n",
       "oct                         0\n",
       "precip “                    0\n",
       "                         ... \n",
       "monthly cost              163\n",
       "owner occupied income     163\n",
       "owner occupied cost       163\n",
       "renter occupied income    163\n",
       "renter occupied cost      163\n",
       "Length: 568, dtype: int64"
      ]
     },
     "execution_count": 53,
     "metadata": {},
     "output_type": "execute_result"
    }
   ],
   "source": [
    "df.select_dtypes(np.number).isnull().sum()"
   ]
  },
  {
   "cell_type": "code",
   "execution_count": 296,
   "id": "4560f8dc-113b-4b9f-9777-8194e60ed790",
   "metadata": {},
   "outputs": [
    {
     "name": "stdout",
     "output_type": "stream",
     "text": [
      "city\n",
      "jan\n",
      "april\n",
      "july\n",
      "oct \n",
      "precip “\n",
      "precip days\n",
      "snowfall\n",
      "rank\n",
      "state\n",
      "pop2021\n",
      "pop2010\n",
      "growth\n",
      "density\n",
      "aland_sqmi\n",
      "2010 population\n",
      "2012 population\n",
      "growth / decline\n",
      "rank_y\n",
      "population (2013)\n",
      "budget\n",
      "took office\n",
      "term ends\n",
      "government type\n",
      "unnamed: 0\n",
      "overall homeless\n",
      "overall homeless - under 18\n",
      "overall homeless - age 18 to 24\n",
      "overall homeless - over 24\n",
      "sheltered es homeless\n",
      "sheltered es homeless - under 18\n",
      "sheltered es homeless - age 18 to 24\n",
      "sheltered es homeless - over 24\n",
      "sheltered th homeless\n",
      "sheltered th homeless - under 18\n",
      "sheltered th homeless - age 18 to 24\n",
      "sheltered th homeless - over 24\n",
      "sheltered sh homeless\n",
      "sheltered sh homeless - age 18 to 24\n",
      "sheltered sh homeless - over 24\n",
      "sheltered total homeless\n",
      "sheltered total homeless - under 18\n",
      "sheltered total homeless - age 18 to 24\n",
      "sheltered total homeless - over 24\n",
      "unsheltered homeless\n",
      "unsheltered homeless - under 18\n",
      "unsheltered homeless - age 18 to 24\n",
      "unsheltered homeless - over 24\n",
      "overall homeless individuals\n",
      "overall homeless individuals - under 18\n",
      "overall homeless individuals - age 18 to 24\n",
      "overall homeless individuals - over 24\n",
      "sheltered es homeless individuals\n",
      "sheltered es homeless individuals - under 18\n",
      "sheltered es homeless individuals - age 18 to 24\n",
      "sheltered es homeless individuals - over 24\n",
      "sheltered th homeless individuals\n",
      "sheltered th homeless individuals - under 18\n",
      "sheltered th homeless individuals - age 18 to 24\n",
      "sheltered th homeless individuals - over 24\n",
      "sheltered sh homeless individuals\n",
      "sheltered sh homeless individuals - age 18 to 24\n",
      "sheltered sh homeless individuals - over 24\n",
      "sheltered total homeless individuals\n",
      "sheltered total homeless individuals - under 18\n",
      "sheltered total homeless individuals - age 18 to 24\n",
      "sheltered total homeless individuals - over 24\n",
      "unsheltered homeless individuals\n",
      "unsheltered homeless individuals - under 18\n",
      "unsheltered homeless individuals - age 18 to 24\n",
      "unsheltered homeless individuals - over 24\n",
      "overall homeless people in families\n",
      "overall homeless people in families - under 18\n",
      "overall homeless people in families - age 18 to 24\n",
      "overall homeless people in families - over 24\n",
      "sheltered es homeless people in families\n",
      "sheltered es homeless people in families - under 18\n",
      "sheltered es homeless people in families - age 18 to 24\n",
      "sheltered es homeless people in families - over 24\n",
      "sheltered th homeless people in families\n",
      "sheltered th homeless people in families - under 18\n",
      "sheltered th homeless people in families - age 18 to 24\n",
      "sheltered th homeless people in families - over 24\n",
      "sheltered total homeless people in families\n",
      "sheltered total homeless people in families - under 18\n",
      "sheltered total homeless people in families - age 18 to 24\n",
      "sheltered total homeless people in families - over 24\n",
      "unsheltered homeless people in families\n",
      "unsheltered homeless people in families - under 18\n",
      "unsheltered homeless people in families - age 18 to 24\n",
      "unsheltered homeless people in families - over 24\n",
      "overall homeless family households\n",
      "sheltered es homeless family households\n",
      "sheltered th homeless family households\n",
      "sheltered total homeless family households\n",
      "unsheltered homeless family households\n",
      "overall chronically homeless\n",
      "sheltered es chronically homeless\n",
      "sheltered sh chronically homeless\n",
      "sheltered total chronically homeless\n",
      "unsheltered chronically homeless\n",
      "overall chronically homeless individuals\n",
      "sheltered es chronically homeless individuals\n",
      "sheltered sh chronically homeless individuals\n",
      "sheltered total chronically homeless individuals\n",
      "unsheltered chronically homeless individuals\n",
      "overall chronically homeless people in families\n",
      "sheltered es chronically homeless people in families\n",
      "sheltered total chronically homeless people in families\n",
      "unsheltered chronically homeless people in families\n",
      "overall homeless veterans\n",
      "overall homeless veterans - female\n",
      "sheltered total homeless veterans\n",
      "sheltered total homeless veterans - female\n",
      "unsheltered homeless veterans\n",
      "unsheltered homeless veterans - female\n",
      "year_x\n",
      "overall homeless - female\n",
      "overall homeless - male\n",
      "overall homeless - transgender\n",
      "overall homeless - non-hispanic/non-latino\n",
      "overall homeless - hispanic/latino\n",
      "overall homeless - white\n",
      "overall homeless - black or african american\n",
      "overall homeless - asian\n",
      "overall homeless - american indian or alaska native\n",
      "overall homeless - native hawaiian or other pacific islander\n",
      "overall homeless - multiple races\n",
      "sheltered es homeless - female\n",
      "sheltered es homeless - male\n",
      "sheltered es homeless - transgender\n",
      "sheltered es homeless - non-hispanic/non-latino\n",
      "sheltered es homeless - hispanic/latino\n",
      "sheltered es homeless - white\n",
      "sheltered es homeless - black or african american\n",
      "sheltered es homeless - asian\n",
      "sheltered es homeless - american indian or alaska native\n",
      "sheltered es homeless - native hawaiian or other pacific islander\n",
      "sheltered es homeless - multiple races\n",
      "sheltered th homeless - female\n",
      "sheltered th homeless - male\n",
      "sheltered th homeless - transgender\n",
      "sheltered th homeless - non-hispanic/non-latino\n",
      "sheltered th homeless - hispanic/latino\n",
      "sheltered th homeless - white\n",
      "sheltered th homeless - black or african american\n",
      "sheltered th homeless - asian\n",
      "sheltered th homeless - american indian or alaska native\n",
      "sheltered th homeless - native hawaiian or other pacific islander\n",
      "sheltered th homeless - multiple races\n",
      "sheltered sh homeless - female\n",
      "sheltered sh homeless - male\n",
      "sheltered sh homeless - transgender\n",
      "sheltered sh homeless - non-hispanic/non-latino\n",
      "sheltered sh homeless - hispanic/latino\n",
      "sheltered sh homeless - white\n",
      "sheltered sh homeless - black or african american\n",
      "sheltered sh homeless - asian\n",
      "sheltered sh homeless - american indian or alaska native\n",
      "sheltered sh homeless - native hawaiian or other pacific islander\n",
      "sheltered sh homeless - multiple races\n",
      "sheltered total homeless - female\n",
      "sheltered total homeless - male\n",
      "sheltered total homeless - transgender\n",
      "sheltered total homeless - non-hispanic/non-latino\n",
      "sheltered total homeless - hispanic/latino\n",
      "sheltered total homeless - white\n",
      "sheltered total homeless - black or african american\n",
      "sheltered total homeless - asian\n",
      "sheltered total homeless - american indian or alaska native\n",
      "sheltered total homeless - native hawaiian or other pacific islander\n",
      "sheltered total homeless - multiple races\n",
      "unsheltered homeless - female\n",
      "unsheltered homeless - male\n",
      "unsheltered homeless - transgender\n",
      "unsheltered homeless - non-hispanic/non-latino\n",
      "unsheltered homeless - hispanic/latino\n",
      "unsheltered homeless - white\n",
      "unsheltered homeless - black or african american\n",
      "unsheltered homeless - asian\n",
      "unsheltered homeless - american indian or alaska native\n",
      "unsheltered homeless - native hawaiian or other pacific islander\n",
      "unsheltered homeless - multiple races\n",
      "overall homeless individuals - female\n",
      "overall homeless individuals - male\n",
      "overall homeless individuals - transgender\n",
      "overall homeless individuals - non-hispanic/non-latino\n",
      "overall homeless individuals - hispanic/latino\n",
      "overall homeless individuals - white\n",
      "overall homeless individuals - black or african american\n",
      "overall homeless individuals - asian\n",
      "overall homeless individuals - american indian or alaska native\n",
      "overall homeless individuals - native hawaiian or other pacific islander\n",
      "overall homeless individuals - multiple races\n",
      "sheltered es homeless individuals - female\n",
      "sheltered es homeless individuals - male\n",
      "sheltered es homeless individuals - transgender\n",
      "sheltered es homeless individuals - non-hispanic/non-latino\n",
      "sheltered es homeless individuals - hispanic/latino\n",
      "sheltered es homeless individuals - white\n",
      "sheltered es homeless individuals - black or african american\n",
      "sheltered es homeless individuals - asian\n",
      "sheltered es homeless individuals - american indian or alaska native\n",
      "sheltered es homeless individuals - native hawaiian or other pacific islander\n",
      "sheltered es homeless individuals - multiple races\n",
      "sheltered th homeless individuals - female\n",
      "sheltered th homeless individuals - male\n",
      "sheltered th homeless individuals - transgender\n",
      "sheltered th homeless individuals - non-hispanic/non-latino\n",
      "sheltered th homeless individuals - hispanic/latino\n",
      "sheltered th homeless individuals - white\n",
      "sheltered th homeless individuals - black or african american\n",
      "sheltered th homeless individuals - asian\n",
      "sheltered th homeless individuals - american indian or alaska native\n",
      "sheltered th homeless individuals - native hawaiian or other pacific islander\n",
      "sheltered th homeless individuals - multiple races\n",
      "sheltered sh homeless individuals - female\n",
      "sheltered sh homeless individuals - male\n",
      "sheltered sh homeless individuals - transgender\n",
      "sheltered sh homeless individuals - non-hispanic/non-latino\n",
      "sheltered sh homeless individuals - hispanic/latino\n",
      "sheltered sh homeless individuals - white\n",
      "sheltered sh homeless individuals - black or african american\n",
      "sheltered sh homeless individuals - asian\n",
      "sheltered sh homeless individuals - american indian or alaska native\n",
      "sheltered sh homeless individuals - native hawaiian or other pacific islander\n",
      "sheltered sh homeless individuals - multiple races\n",
      "sheltered total homeless individuals - female\n",
      "sheltered total homeless individuals - male\n",
      "sheltered total homeless individuals - transgender\n",
      "sheltered total homeless individuals - non-hispanic/non-latino\n",
      "sheltered total homeless individuals - hispanic/latino\n",
      "sheltered total homeless individuals - white\n",
      "sheltered total homeless individuals - black or african american\n",
      "sheltered total homeless individuals - asian\n",
      "sheltered total homeless individuals - american indian or alaska native\n",
      "sheltered total homeless individuals - native hawaiian or other pacific islander\n",
      "sheltered total homeless individuals - multiple races\n",
      "unsheltered homeless individuals - female\n",
      "unsheltered homeless individuals - male\n",
      "unsheltered homeless individuals - transgender\n",
      "unsheltered homeless individuals - non-hispanic/non-latino\n",
      "unsheltered homeless individuals - hispanic/latino\n",
      "unsheltered homeless individuals - white\n",
      "unsheltered homeless individuals - black or african american\n",
      "unsheltered homeless individuals - asian\n",
      "unsheltered homeless individuals - american indian or alaska native\n",
      "unsheltered homeless individuals - native hawaiian or other pacific islander\n",
      "unsheltered homeless individuals - multiple races\n",
      "overall homeless people in families - female\n",
      "overall homeless people in families - male\n",
      "overall homeless people in families - transgender\n",
      "overall homeless people in families - non-hispanic/non-latino\n",
      "overall homeless people in families - hispanic/latino\n",
      "overall homeless people in families - white\n",
      "overall homeless people in families - black or african american\n",
      "overall homeless people in families - asian\n",
      "overall homeless people in families - american indian or alaska native\n",
      "overall homeless people in families - native hawaiian or other pacific islander\n",
      "overall homeless people in families - multiple races\n",
      "sheltered es homeless people in families - female\n",
      "sheltered es homeless people in families - male\n",
      "sheltered es homeless people in families - transgender\n",
      "sheltered es homeless people in families - non-hispanic/non-latino\n",
      "sheltered es homeless people in families - hispanic/latino\n",
      "sheltered es homeless people in families - white\n",
      "sheltered es homeless people in families - black or african american\n",
      "sheltered es homeless people in families - asian\n",
      "sheltered es homeless people in families - american indian or alaska native\n",
      "sheltered es homeless people in families - native hawaiian or other pacific islander\n",
      "sheltered es homeless people in families - multiple races\n",
      "sheltered th homeless people in families - female\n",
      "sheltered th homeless people in families - male\n",
      "sheltered th homeless people in families - transgender\n",
      "sheltered th homeless people in families - non-hispanic/non-latino\n",
      "sheltered th homeless people in families - hispanic/latino\n",
      "sheltered th homeless people in families - white\n",
      "sheltered th homeless people in families - black or african american\n",
      "sheltered th homeless people in families - asian\n",
      "sheltered th homeless people in families - american indian or alaska native\n",
      "sheltered th homeless people in families - native hawaiian or other pacific islander\n",
      "sheltered th homeless people in families - multiple races\n",
      "sheltered total homeless people in families - female\n",
      "sheltered total homeless people in families - male\n",
      "sheltered total homeless people in families - transgender\n",
      "sheltered total homeless people in families - non-hispanic/non-latino\n",
      "sheltered total homeless people in families - hispanic/latino\n",
      "sheltered total homeless people in families - white\n",
      "sheltered total homeless people in families - black or african american\n",
      "sheltered total homeless people in families - asian\n",
      "sheltered total homeless people in families - american indian or alaska native\n",
      "sheltered total homeless people in families - native hawaiian or other pacific islander\n",
      "sheltered total homeless people in families - multiple races\n",
      "unsheltered homeless people in families - female\n",
      "unsheltered homeless people in families - male\n",
      "unsheltered homeless people in families - transgender\n",
      "unsheltered homeless people in families - non-hispanic/non-latino\n",
      "unsheltered homeless people in families - hispanic/latino\n",
      "unsheltered homeless people in families - white\n",
      "unsheltered homeless people in families - black or african american\n",
      "unsheltered homeless people in families - asian\n",
      "unsheltered homeless people in families - american indian or alaska native\n",
      "unsheltered homeless people in families - native hawaiian or other pacific islander\n",
      "unsheltered homeless people in families - multiple races\n",
      "overall homeless veterans - male\n",
      "overall homeless veterans - transgender\n",
      "overall homeless veterans - non-hispanic/non-latino\n",
      "overall homeless veterans - hispanic/latino\n",
      "overall homeless veterans - white\n",
      "overall homeless veterans - black or african american\n",
      "overall homeless veterans - asian\n",
      "overall homeless veterans - american indian or alaska native\n",
      "overall homeless veterans - native hawaiian or other pacific islander\n",
      "overall homeless veterans - multiple races\n",
      "sheltered es homeless veterans\n",
      "sheltered es homeless veterans - female\n",
      "sheltered es homeless veterans - male\n",
      "sheltered es homeless veterans - transgender\n",
      "sheltered es homeless veterans - non-hispanic/non-latino\n",
      "sheltered es homeless veterans - hispanic/latino\n",
      "sheltered es homeless veterans - white\n",
      "sheltered es homeless veterans - black or african american\n",
      "sheltered es homeless veterans - asian\n",
      "sheltered es homeless veterans - american indian or alaska native\n",
      "sheltered es homeless veterans - native hawaiian or other pacific islander\n",
      "sheltered es homeless veterans - multiple races\n",
      "sheltered th homeless veterans\n",
      "sheltered th homeless veterans - female\n",
      "sheltered th homeless veterans - male\n",
      "sheltered th homeless veterans - transgender\n",
      "sheltered th homeless veterans - non-hispanic/non-latino\n",
      "sheltered th homeless veterans - hispanic/latino\n",
      "sheltered th homeless veterans - white\n",
      "sheltered th homeless veterans - black or african american\n",
      "sheltered th homeless veterans - asian\n",
      "sheltered th homeless veterans - american indian or alaska native\n",
      "sheltered th homeless veterans - native hawaiian or other pacific islander\n",
      "sheltered th homeless veterans - multiple races\n",
      "sheltered sh homeless veterans\n",
      "sheltered sh homeless veterans - female\n",
      "sheltered sh homeless veterans - male\n",
      "sheltered sh homeless veterans - transgender\n",
      "sheltered sh homeless veterans - non-hispanic/non-latino\n",
      "sheltered sh homeless veterans - hispanic/latino\n",
      "sheltered sh homeless veterans - white\n",
      "sheltered sh homeless veterans - black or african american\n",
      "sheltered sh homeless veterans - asian\n",
      "sheltered sh homeless veterans - american indian or alaska native\n",
      "sheltered sh homeless veterans - native hawaiian or other pacific islander\n",
      "sheltered sh homeless veterans - multiple races\n",
      "sheltered total homeless veterans - male\n",
      "sheltered total homeless veterans - transgender\n",
      "sheltered total homeless veterans - non-hispanic/non-latino\n",
      "sheltered total homeless veterans - hispanic/latino\n",
      "sheltered total homeless veterans - white\n",
      "sheltered total homeless veterans - black or african american\n",
      "sheltered total homeless veterans - asian\n",
      "sheltered total homeless veterans - american indian or alaska native\n",
      "sheltered total homeless veterans - native hawaiian or other pacific islander\n",
      "sheltered total homeless veterans - multiple races\n",
      "unsheltered homeless veterans - male\n",
      "unsheltered homeless veterans - transgender\n",
      "unsheltered homeless veterans - non-hispanic/non-latino\n",
      "unsheltered homeless veterans - hispanic/latino\n",
      "unsheltered homeless veterans - white\n",
      "unsheltered homeless veterans - black or african american\n",
      "unsheltered homeless veterans - asian\n",
      "unsheltered homeless veterans - american indian or alaska native\n",
      "unsheltered homeless veterans - native hawaiian or other pacific islander\n",
      "unsheltered homeless veterans - multiple races\n",
      "overall homeless unaccompanied youth (under 25)\n",
      "sheltered es homeless unaccompanied youth (under 25)\n",
      "sheltered th homeless unaccompanied youth (under 25)\n",
      "sheltered sh homeless unaccompanied youth (under 25)\n",
      "sheltered total homeless unaccompanied youth (under 25)\n",
      "unsheltered homeless unaccompanied youth (under 25)\n",
      "overall homeless unaccompanied youth under 18\n",
      "sheltered es homeless unaccompanied youth under 18\n",
      "sheltered th homeless unaccompanied youth under 18\n",
      "sheltered sh homeless unaccompanied youth under 18\n",
      "sheltered total homeless unaccompanied youth under 18\n",
      "unsheltered homeless unaccompanied youth under 18\n",
      "overall homeless unaccompanied youth age 18-24\n",
      "sheltered es homeless unaccompanied youth age 18-24\n",
      "sheltered th homeless unaccompanied youth age 18-24\n",
      "sheltered sh homeless unaccompanied youth age 18-24\n",
      "sheltered total homeless unaccompanied youth age 18-24\n",
      "unsheltered homeless unaccompanied youth age 18-24\n",
      "overall homeless parenting youth (under 25)\n",
      "sheltered es homeless parenting youth (under 25)\n",
      "sheltered th homeless parenting youth (under 25)\n",
      "sheltered total homeless parenting youth (under 25)\n",
      "unsheltered homeless parenting youth (under 25)\n",
      "overall homeless parenting youth under 18\n",
      "sheltered es homeless parenting youth under 18\n",
      "sheltered th homeless parenting youth under 18\n",
      "sheltered total homeless parenting youth under 18\n",
      "unsheltered homeless parenting youth under 18\n",
      "overall homeless parenting youth age 18-24\n",
      "sheltered es homeless parenting youth age 18-24\n",
      "sheltered th homeless parenting youth age 18-24\n",
      "sheltered total homeless parenting youth age 18-24\n",
      "unsheltered homeless parenting youth age 18-24\n",
      "overall homeless children of parenting youth\n",
      "sheltered es homeless children of parenting youth\n",
      "sheltered th homeless children of parenting youth\n",
      "sheltered total homeless children of parenting youth\n",
      "unsheltered homeless children of parenting youth\n",
      "overall homeless - gender non-conforming\n",
      "sheltered es homeless - gender non-conforming\n",
      "sheltered th homeless - gender non-conforming\n",
      "sheltered sh homeless - under 18\n",
      "sheltered sh homeless - gender non-conforming\n",
      "sheltered total homeless - gender non-conforming\n",
      "unsheltered homeless - gender non-conforming\n",
      "overall homeless individuals - gender non-conforming\n",
      "sheltered es homeless individuals - gender non-conforming\n",
      "sheltered th homeless individuals - gender non-conforming\n",
      "sheltered sh homeless individuals - under 18\n",
      "sheltered sh homeless individuals - gender non-conforming\n",
      "sheltered total homeless individuals - gender non-conforming\n",
      "unsheltered homeless individuals - gender non-conforming\n",
      "overall homeless people in families - gender non-conforming\n",
      "sheltered es homeless people in families - gender non-conforming\n",
      "sheltered th homeless people in families - gender non-conforming\n",
      "sheltered total homeless people in families - gender non-conforming\n",
      "unsheltered homeless people in families - gender non-conforming\n",
      "overall homeless veterans - gender non-conforming\n",
      "sheltered es homeless veterans - gender non-conforming\n",
      "sheltered th homeless veterans - gender non-conforming\n",
      "sheltered sh homeless veterans - gender non-conforming\n",
      "sheltered total homeless veterans - gender non-conforming\n",
      "unsheltered homeless veterans - gender non-conforming\n",
      "overall homeless unaccompanied youth (under 25) - female\n",
      "overall homeless unaccompanied youth (under 25) - male\n",
      "overall homeless unaccompanied youth (under 25) - transgender\n",
      "overall homeless unaccompanied youth (under 25) - gender non-conforming\n",
      "overall homeless unaccompanied youth (under 25) - non-hispanic/non-latino\n",
      "overall homeless unaccompanied youth (under 25) - hispanic/latino\n",
      "overall homeless unaccompanied youth (under 25) - white\n",
      "overall homeless unaccompanied youth (under 25) - black or african american\n",
      "overall homeless unaccompanied youth (under 25) - asian\n",
      "overall homeless unaccompanied youth (under 25) - american indian or alaska native\n",
      "overall homeless unaccompanied youth (under 25) - native hawaiian or other pacific islander\n",
      "overall homeless unaccompanied youth (under 25) - multiple races\n",
      "sheltered es homeless unaccompanied youth (under 25) - female\n",
      "sheltered es homeless unaccompanied youth (under 25) - male\n",
      "sheltered es homeless unaccompanied youth (under 25) - transgender\n",
      "sheltered es homeless unaccompanied youth (under 25) - gender non-conforming\n",
      "sheltered es homeless unaccompanied youth (under 25) - non-hispanic/non-latino\n",
      "sheltered es homeless unaccompanied youth (under 25) - hispanic/latino\n",
      "sheltered es homeless unaccompanied youth (under 25) - white\n",
      "sheltered es homeless unaccompanied youth (under 25) - black or african american\n",
      "sheltered es homeless unaccompanied youth (under 25) - asian\n",
      "sheltered es homeless unaccompanied youth (under 25) - american indian or alaska native\n",
      "sheltered es homeless unaccompanied youth (under 25) - native hawaiian or other pacific islander\n",
      "sheltered es homeless unaccompanied youth (under 25) - multiple races\n",
      "sheltered th homeless unaccompanied youth (under 25) - female\n",
      "sheltered th homeless unaccompanied youth (under 25) - male\n",
      "sheltered th homeless unaccompanied youth (under 25) - transgender\n",
      "sheltered th homeless unaccompanied youth (under 25) - gender non-conforming\n",
      "sheltered th homeless unaccompanied youth (under 25) - non-hispanic/non-latino\n",
      "sheltered th homeless unaccompanied youth (under 25) - hispanic/latino\n",
      "sheltered th homeless unaccompanied youth (under 25) - white\n",
      "sheltered th homeless unaccompanied youth (under 25) - black or african american\n",
      "sheltered th homeless unaccompanied youth (under 25) - asian\n",
      "sheltered th homeless unaccompanied youth (under 25) - american indian or alaska native\n",
      "sheltered th homeless unaccompanied youth (under 25) - native hawaiian or other pacific islander\n",
      "sheltered th homeless unaccompanied youth (under 25) - multiple races\n",
      "sheltered sh homeless unaccompanied youth (under 25) - female\n",
      "sheltered sh homeless unaccompanied youth (under 25) - male\n",
      "sheltered sh homeless unaccompanied youth (under 25) - transgender\n",
      "sheltered sh homeless unaccompanied youth (under 25) - gender non-conforming\n",
      "sheltered sh homeless unaccompanied youth (under 25) - non-hispanic/non-latino\n",
      "sheltered sh homeless unaccompanied youth (under 25) - hispanic/latino\n",
      "sheltered sh homeless unaccompanied youth (under 25) - white\n",
      "sheltered sh homeless unaccompanied youth (under 25) - black or african american\n",
      "sheltered sh homeless unaccompanied youth (under 25) - asian\n",
      "sheltered sh homeless unaccompanied youth (under 25) - american indian or alaska native\n",
      "sheltered sh homeless unaccompanied youth (under 25) - native hawaiian or other pacific islander\n",
      "sheltered sh homeless unaccompanied youth (under 25) - multiple races\n",
      "sheltered total homeless unaccompanied youth (under 25) - female\n",
      "sheltered total homeless unaccompanied youth (under 25) - male\n",
      "sheltered total homeless unaccompanied youth (under 25) - transgender\n",
      "sheltered total homeless unaccompanied youth (under 25) - gender non-conforming\n",
      "sheltered total homeless unaccompanied youth (under 25) - non-hispanic/non-latino\n",
      "sheltered total homeless unaccompanied youth (under 25) - hispanic/latino\n",
      "sheltered total homeless unaccompanied youth (under 25) - white\n",
      "sheltered total homeless unaccompanied youth (under 25) - black or african american\n",
      "sheltered total homeless unaccompanied youth (under 25) - asian\n",
      "sheltered total homeless unaccompanied youth (under 25) - american indian or alaska native\n",
      "sheltered total homeless unaccompanied youth (under 25) - native hawaiian or other pacific islander\n",
      "sheltered total homeless unaccompanied youth (under 25) - multiple races\n",
      "unsheltered homeless unaccompanied youth (under 25) - female\n",
      "unsheltered homeless unaccompanied youth (under 25) - male\n",
      "unsheltered homeless unaccompanied youth (under 25) - transgender\n",
      "unsheltered homeless unaccompanied youth (under 25) - gender non-conforming\n",
      "unsheltered homeless unaccompanied youth (under 25) - non-hispanic/non-latino\n",
      "unsheltered homeless unaccompanied youth (under 25) - hispanic/latino\n",
      "unsheltered homeless unaccompanied youth (under 25) - white\n",
      "unsheltered homeless unaccompanied youth (under 25) - black or african american\n",
      "unsheltered homeless unaccompanied youth (under 25) - asian\n",
      "unsheltered homeless unaccompanied youth (under 25) - american indian or alaska native\n",
      "unsheltered homeless unaccompanied youth (under 25) - native hawaiian or other pacific islander\n",
      "unsheltered homeless unaccompanied youth (under 25) - multiple races\n",
      "overall homeless parenting youth (under 25) - female\n",
      "overall homeless parenting youth (under 25) - male\n",
      "overall homeless parenting youth (under 25) - transgender\n",
      "overall homeless parenting youth (under 25) - gender non-conforming\n",
      "overall homeless parenting youth (under 25) - non-hispanic/non-latino\n",
      "overall homeless parenting youth (under 25) - hispanic/latino\n",
      "overall homeless parenting youth (under 25) - white\n",
      "overall homeless parenting youth (under 25) - black or african american\n",
      "overall homeless parenting youth (under 25) - asian\n",
      "overall homeless parenting youth (under 25) - american indian or alaska native\n",
      "overall homeless parenting youth (under 25) - native hawaiian or other pacific islander\n",
      "overall homeless parenting youth (under 25) - multiple races\n",
      "sheltered es homeless parenting youth (under 25) - female\n",
      "sheltered es homeless parenting youth (under 25) - male\n",
      "sheltered es homeless parenting youth (under 25) - transgender\n",
      "sheltered es homeless parenting youth (under 25) - gender non-conforming\n",
      "sheltered es homeless parenting youth (under 25) - non-hispanic/non-latino\n",
      "sheltered es homeless parenting youth (under 25) - hispanic/latino\n",
      "sheltered es homeless parenting youth (under 25) - white\n",
      "sheltered es homeless parenting youth (under 25) - black or african american\n",
      "sheltered es homeless parenting youth (under 25) - asian\n",
      "sheltered es homeless parenting youth (under 25) - american indian or alaska native\n",
      "sheltered es homeless parenting youth (under 25) - native hawaiian or other pacific islander\n",
      "sheltered es homeless parenting youth (under 25) - multiple races\n",
      "sheltered th homeless parenting youth (under 25) - female\n",
      "sheltered th homeless parenting youth (under 25) - male\n",
      "sheltered th homeless parenting youth (under 25) - transgender\n",
      "sheltered th homeless parenting youth (under 25) - gender non-conforming\n",
      "sheltered th homeless parenting youth (under 25) - non-hispanic/non-latino\n",
      "sheltered th homeless parenting youth (under 25) - hispanic/latino\n",
      "sheltered th homeless parenting youth (under 25) - white\n",
      "sheltered th homeless parenting youth (under 25) - black or african american\n",
      "sheltered th homeless parenting youth (under 25) - asian\n",
      "sheltered th homeless parenting youth (under 25) - american indian or alaska native\n",
      "sheltered th homeless parenting youth (under 25) - native hawaiian or other pacific islander\n",
      "sheltered th homeless parenting youth (under 25) - multiple races\n",
      "sheltered total homeless parenting youth (under 25) - female\n",
      "sheltered total homeless parenting youth (under 25) - male\n",
      "sheltered total homeless parenting youth (under 25) - transgender\n",
      "sheltered total homeless parenting youth (under 25) - gender non-conforming\n",
      "sheltered total homeless parenting youth (under 25) - non-hispanic/non-latino\n",
      "sheltered total homeless parenting youth (under 25) - hispanic/latino\n",
      "sheltered total homeless parenting youth (under 25) - white\n",
      "sheltered total homeless parenting youth (under 25) - black or african american\n",
      "sheltered total homeless parenting youth (under 25) - asian\n",
      "sheltered total homeless parenting youth (under 25) - american indian or alaska native\n",
      "sheltered total homeless parenting youth (under 25) - native hawaiian or other pacific islander\n",
      "sheltered total homeless parenting youth (under 25) - multiple races\n",
      "unsheltered homeless parenting youth (under 25) - female\n",
      "unsheltered homeless parenting youth (under 25) - male\n",
      "unsheltered homeless parenting youth (under 25) - transgender\n",
      "unsheltered homeless parenting youth (under 25) - gender non-conforming\n",
      "unsheltered homeless parenting youth (under 25) - non-hispanic/non-latino\n",
      "unsheltered homeless parenting youth (under 25) - hispanic/latino\n",
      "unsheltered homeless parenting youth (under 25) - white\n",
      "unsheltered homeless parenting youth (under 25) - black or african american\n",
      "unsheltered homeless parenting youth (under 25) - asian\n",
      "unsheltered homeless parenting youth (under 25) - american indian or alaska native\n",
      "unsheltered homeless parenting youth (under 25) - native hawaiian or other pacific islander\n",
      "unsheltered homeless parenting youth (under 25) - multiple races\n",
      "median household income (dollars)\n",
      "monthly cost\n",
      "owner occupied income\n",
      "owner occupied cost\n",
      "renter occupied income\n",
      "renter occupied cost\n"
     ]
    }
   ],
   "source": [
    "for ele in df.columns:\n",
    "        print(ele)"
   ]
  },
  {
   "cell_type": "code",
   "execution_count": 139,
   "id": "66af923d-fa20-40e5-ac9a-519a2e5fb121",
   "metadata": {},
   "outputs": [],
   "source": [
    "df2 = pd.merge(env, homelessness[['city','state','overall homeless']], on=['city', 'state'], how='left')\n",
    "df2 = pd.merge(df2, econ2017[['city','state','median household income (dollars)']], on=['city', 'state'], how='left')\n",
    "\n",
    "df2['snowfall'] = np.array([snow if snow != 'trace' else 0 for snow in df2['snowfall']]).astype(float)\n",
    "\n",
    "df2 = df2.drop(columns= ['Mayor', 'City elections in 2021?', 'Mayoral election in 2021?'])\n"
   ]
  },
  {
   "cell_type": "code",
   "execution_count": 140,
   "id": "2c07ebb4-ea66-40d8-a9a4-91fd7ba27ce3",
   "metadata": {},
   "outputs": [
    {
     "data": {
      "text/plain": [
       "city                                 0.000000\n",
       "Jan                                  0.000000\n",
       "April                                0.000000\n",
       "July                                 0.000000\n",
       "Oct                                  0.000000\n",
       "Precip “                             0.000000\n",
       "precip days                          0.000000\n",
       "snowfall                             0.000000\n",
       "rank                                 0.000000\n",
       "state                                0.000000\n",
       "pop2021                              0.000000\n",
       "pop2010                              0.000000\n",
       "growth                               0.000000\n",
       "density                              0.000000\n",
       "aland_sqmi                           0.000000\n",
       "2010 population                      0.000000\n",
       "2012 population                      0.000000\n",
       "Growth / Decline                     0.000000\n",
       "Rank_y                               0.000000\n",
       "Population (2013)                    0.000000\n",
       "Budget                               0.000000\n",
       "Took office                          0.000000\n",
       "Term ends                            0.000000\n",
       "Government type                      0.000000\n",
       "overall homeless                     0.005682\n",
       "median household income (dollars)    0.463068\n",
       "dtype: float64"
      ]
     },
     "execution_count": 140,
     "metadata": {},
     "output_type": "execute_result"
    }
   ],
   "source": [
    "df2.isnull().mean()"
   ]
  },
  {
   "cell_type": "code",
   "execution_count": 141,
   "id": "76fd62d4-60c8-45bd-8666-ab2dde8c59ce",
   "metadata": {},
   "outputs": [],
   "source": [
    "df2 = df2.dropna()"
   ]
  },
  {
   "cell_type": "markdown",
   "id": "ea9908ed-b68f-4ed1-a4fa-45c1c76a985b",
   "metadata": {},
   "source": [
    "<h2>Ploting</h2>"
   ]
  },
  {
   "cell_type": "code",
   "execution_count": 142,
   "id": "d538ce54-13bc-477f-8293-b9e744ed02d2",
   "metadata": {},
   "outputs": [],
   "source": [
    "df2.columns = df2.columns.str.lower()"
   ]
  },
  {
   "cell_type": "code",
   "execution_count": 144,
   "id": "e58d1e53-0976-4d8d-a114-b3585ffffca7",
   "metadata": {},
   "outputs": [
    {
     "name": "stderr",
     "output_type": "stream",
     "text": [
      "<ipython-input-144-cdbaf95814b3>:1: FutureWarning: The default value of regex will change from True to False in a future version. In addition, single character regular expressions will *not* be treated as literal strings when regex=True.\n",
      "  df2['budget'] = df2['budget'].str.replace('$', '')\n"
     ]
    }
   ],
   "source": [
    "df2['budget'] = df2['budget'].str.replace('$', '')\n",
    "df2['budget'] = df2['budget'].str.replace(',', '')\n",
    "df2['budget'] = df2['budget'].astype(int) // 1_000_000"
   ]
  },
  {
   "cell_type": "code",
   "execution_count": 73,
   "id": "c4627708-6788-4627-9791-0b70b4859bff",
   "metadata": {},
   "outputs": [
    {
     "data": {
      "text/html": [
       "<div>\n",
       "<style scoped>\n",
       "    .dataframe tbody tr th:only-of-type {\n",
       "        vertical-align: middle;\n",
       "    }\n",
       "\n",
       "    .dataframe tbody tr th {\n",
       "        vertical-align: top;\n",
       "    }\n",
       "\n",
       "    .dataframe thead th {\n",
       "        text-align: right;\n",
       "    }\n",
       "</style>\n",
       "<table border=\"1\" class=\"dataframe\">\n",
       "  <thead>\n",
       "    <tr style=\"text-align: right;\">\n",
       "      <th></th>\n",
       "    </tr>\n",
       "  </thead>\n",
       "  <tbody>\n",
       "    <tr>\n",
       "      <th>overall homeless</th>\n",
       "    </tr>\n",
       "    <tr>\n",
       "      <th>overall homeless - male</th>\n",
       "    </tr>\n",
       "    <tr>\n",
       "      <th>overall homeless - over 24</th>\n",
       "    </tr>\n",
       "    <tr>\n",
       "      <th>overall homeless - female</th>\n",
       "    </tr>\n",
       "    <tr>\n",
       "      <th>overall homeless individuals - male</th>\n",
       "    </tr>\n",
       "    <tr>\n",
       "      <th>...</th>\n",
       "    </tr>\n",
       "    <tr>\n",
       "      <th>sheltered sh homeless veterans - gender non-conforming</th>\n",
       "    </tr>\n",
       "    <tr>\n",
       "      <th>sheltered sh homeless unaccompanied youth (under 25) - gender non-conforming</th>\n",
       "    </tr>\n",
       "    <tr>\n",
       "      <th>sheltered sh homeless unaccompanied youth (under 25) - native hawaiian or other pacific islander</th>\n",
       "    </tr>\n",
       "    <tr>\n",
       "      <th>sheltered es homeless parenting youth (under 25) - gender non-conforming</th>\n",
       "    </tr>\n",
       "    <tr>\n",
       "      <th>sheltered th homeless parenting youth (under 25) - transgender</th>\n",
       "    </tr>\n",
       "  </tbody>\n",
       "</table>\n",
       "<p>568 rows × 0 columns</p>\n",
       "</div>"
      ],
      "text/plain": [
       "Empty DataFrame\n",
       "Columns: []\n",
       "Index: [overall homeless, overall homeless - male, overall homeless - over 24, overall homeless - female, overall homeless individuals - male, overall homeless - non-hispanic/non-latino, overall homeless individuals, overall homeless individuals - over 24, overall homeless individuals - female, overall homeless individuals - non-hispanic/non-latino, unsheltered homeless - male, unsheltered homeless individuals - male, unsheltered homeless, unsheltered homeless individuals - non-hispanic/non-latino, unsheltered homeless individuals, unsheltered homeless - non-hispanic/non-latino, unsheltered homeless individuals - female, overall homeless - white, overall homeless - hispanic/latino, unsheltered homeless - female, unsheltered homeless - over 24, unsheltered homeless individuals - over 24, overall homeless individuals - white, overall homeless individuals - hispanic/latino, unsheltered homeless individuals - white, unsheltered homeless - white, unsheltered homeless - black or african american, overall chronically homeless, overall chronically homeless individuals, overall homeless individuals - black or african american, unsheltered homeless individuals - black or african american, overall homeless - black or african american, unsheltered chronically homeless, unsheltered homeless - hispanic/latino, unsheltered chronically homeless individuals, unsheltered homeless individuals - hispanic/latino, unsheltered homeless veterans - white, sheltered th homeless unaccompanied youth (under 25) - male, sheltered total homeless unaccompanied youth (under 25) - male, unsheltered homeless veterans - male, overall homeless veterans - male, unsheltered homeless veterans, unsheltered homeless veterans - non-hispanic/non-latino, overall homeless veterans, overall homeless veterans - non-hispanic/non-latino, unsheltered homeless veterans - black or african american, sheltered total homeless unaccompanied youth (under 25) - hispanic/latino, sheltered total homeless unaccompanied youth age 18-24, sheltered total homeless individuals - age 18 to 24, sheltered total homeless unaccompanied youth (under 25), overall homeless unaccompanied youth (under 25) - hispanic/latino, unsheltered homeless individuals - american indian or alaska native, overall homeless veterans - hispanic/latino, overall homeless unaccompanied youth (under 25) - black or african american, sheltered th homeless unaccompanied youth age 18-24, sheltered th homeless unaccompanied youth (under 25), unsheltered homeless - american indian or alaska native, sheltered th homeless individuals - age 18 to 24, overall homeless veterans - white, sheltered th homeless unaccompanied youth (under 25) - white, sheltered th homeless unaccompanied youth (under 25) - hispanic/latino, unsheltered homeless veterans - hispanic/latino, sheltered total homeless individuals - hispanic/latino, sheltered total homeless - age 18 to 24, sheltered th homeless unaccompanied youth (under 25) - non-hispanic/non-latino, overall homeless individuals - american indian or alaska native, overall homeless - age 18 to 24, overall homeless veterans - black or african american, sheltered total homeless unaccompanied youth (under 25) - female, unsheltered homeless people in families - under 18, sheltered total homeless unaccompanied youth (under 25) - white, unsheltered homeless people in families - hispanic/latino, unsheltered homeless family households, overall homeless - transgender, overall homeless - american indian or alaska native, sheltered total homeless unaccompanied youth (under 25) - non-hispanic/non-latino, overall homeless parenting youth (under 25) - male, sheltered total homeless parenting youth (under 25) - male, sheltered total homeless individuals - female, overall homeless individuals - transgender, unsheltered homeless unaccompanied youth (under 25) - hispanic/latino, unsheltered homeless - transgender, overall homeless people in families - over 24, overall homeless people in families - white, unsheltered homeless people in families, unsheltered homeless individuals - transgender, sheltered th homeless unaccompanied youth (under 25) - black or african american, unsheltered homeless - asian, unsheltered homeless unaccompanied youth (under 25) - black or african american, overall homeless family households, unsheltered homeless individuals - asian, sheltered total homeless - hispanic/latino, sheltered total homeless, sheltered th homeless individuals - hispanic/latino, overall homeless people in families - male, overall homeless unaccompanied youth age 18-24, unsheltered homeless people in families - female, sheltered total homeless - male, sheltered total homeless - female, overall homeless people in families - female, ...]\n",
       "\n",
       "[568 rows x 0 columns]"
      ]
     },
     "execution_count": 73,
     "metadata": {},
     "output_type": "execute_result"
    }
   ],
   "source": [
    "corr2"
   ]
  },
  {
   "cell_type": "code",
   "execution_count": 145,
   "id": "febdf82b-ed2a-4833-8187-665a4afef57d",
   "metadata": {},
   "outputs": [
    {
     "data": {
      "text/plain": [
       "<AxesSubplot:>"
      ]
     },
     "execution_count": 145,
     "metadata": {},
     "output_type": "execute_result"
    },
    {
     "data": {
      "image/png": "[encoded data removed]",
      "text/plain": [
       "<Figure size 432x288 with 2 Axes>"
      ]
     },
     "metadata": {
      "needs_background": "light"
     },
     "output_type": "display_data"
    }
   ],
   "source": [
    "sns.heatmap(df2.corr()[['overall homeless']].sort_values(by='overall homeless', ascending = False).head(10))"
   ]
  },
  {
   "cell_type": "code",
   "execution_count": 146,
   "id": "bfe66a9e-ed70-4ebd-8a8b-ea5fc907e3c7",
   "metadata": {},
   "outputs": [
    {
     "data": {
      "text/plain": [
       "<AxesSubplot:>"
      ]
     },
     "execution_count": 146,
     "metadata": {},
     "output_type": "execute_result"
    },
    {
     "data": {
      "image/png": "[encoded data removed]",
      "text/plain": [
       "<Figure size 432x288 with 2 Axes>"
      ]
     },
     "metadata": {
      "needs_background": "light"
     },
     "output_type": "display_data"
    }
   ],
   "source": [
    "sns.heatmap(df2.corr()[['overall homeless']].sort_values(by='overall homeless', ascending = False).tail(10))"
   ]
  },
  {
   "cell_type": "code",
   "execution_count": 148,
   "id": "9ee03e4e-54dd-4674-a3c7-44dc21ae9cb3",
   "metadata": {},
   "outputs": [
    {
     "data": {
      "text/plain": [
       "<AxesSubplot:>"
      ]
     },
     "execution_count": 148,
     "metadata": {},
     "output_type": "execute_result"
    },
    {
     "data": {
      "image/png": "[encoded data removed]",
      "text/plain": [
       "<Figure size 432x288 with 2 Axes>"
      ]
     },
     "metadata": {
      "needs_background": "light"
     },
     "output_type": "display_data"
    }
   ],
   "source": [
    "sns.heatmap(df2.corr()[['budget']].sort_values(by='budget', ascending = False))"
   ]
  },
  {
   "cell_type": "code",
   "execution_count": 151,
   "id": "44f5ff24-b3a9-4178-9d3c-fbbf7b998af7",
   "metadata": {},
   "outputs": [],
   "source": [
    "df2['budget/pop'] = df2['budget'] / df2['pop2021']"
   ]
  },
  {
   "cell_type": "code",
   "execution_count": 157,
   "id": "e16b8438-abb8-43af-942b-90e2a78d3b4c",
   "metadata": {},
   "outputs": [
    {
     "data": {
      "text/plain": [
       "<AxesSubplot:>"
      ]
     },
     "execution_count": 157,
     "metadata": {},
     "output_type": "execute_result"
    },
    {
     "data": {
      "image/png": "[encoded data removed]",
      "text/plain": [
       "<Figure size 432x288 with 2 Axes>"
      ]
     },
     "metadata": {
      "needs_background": "light"
     },
     "output_type": "display_data"
    }
   ],
   "source": [
    "sns.heatmap(df2.corr()[['budget/pop']].sort_values(by='budget/pop', ascending = True).head(10))"
   ]
  },
  {
   "cell_type": "code",
   "execution_count": 154,
   "id": "d4ea1d1b-6f5d-4a15-b836-ae9e0f690233",
   "metadata": {},
   "outputs": [],
   "source": [
    "df2['budget/homeless'] = df2['budget'] / df2['overall homeless']"
   ]
  },
  {
   "cell_type": "code",
   "execution_count": 158,
   "id": "16f81632-645a-4523-a224-37ddda402de6",
   "metadata": {},
   "outputs": [
    {
     "data": {
      "text/plain": [
       "<AxesSubplot:>"
      ]
     },
     "execution_count": 158,
     "metadata": {},
     "output_type": "execute_result"
    },
    {
     "data": {
      "image/png": "[encoded data removed]",
      "text/plain": [
       "<Figure size 432x288 with 2 Axes>"
      ]
     },
     "metadata": {
      "needs_background": "light"
     },
     "output_type": "display_data"
    }
   ],
   "source": [
    "sns.heatmap(df2.corr()[['budget/homeless']].sort_values(by='budget/homeless', ascending = False).head(10))"
   ]
  },
  {
   "cell_type": "code",
   "execution_count": 159,
   "id": "2c971fca-eecf-4ec3-b279-011c259d3e25",
   "metadata": {},
   "outputs": [
    {
     "data": {
      "text/plain": [
       "<AxesSubplot:>"
      ]
     },
     "execution_count": 159,
     "metadata": {},
     "output_type": "execute_result"
    },
    {
     "data": {
      "image/png": "[encoded data removed]",
      "text/plain": [
       "<Figure size 432x288 with 2 Axes>"
      ]
     },
     "metadata": {
      "needs_background": "light"
     },
     "output_type": "display_data"
    }
   ],
   "source": [
    "sns.heatmap(df2.corr()[['budget/homeless']].sort_values(by='budget/homeless', ascending = False).tail(10))"
   ]
  },
  {
   "cell_type": "code",
   "execution_count": 161,
   "id": "1f55695f-af8f-493f-8e2c-6fb94b134bea",
   "metadata": {},
   "outputs": [
    {
     "data": {
      "text/plain": [
       "<AxesSubplot:>"
      ]
     },
     "execution_count": 161,
     "metadata": {},
     "output_type": "execute_result"
    },
    {
     "data": {
      "image/png": "[encoded data removed]",
      "text/plain": [
       "<Figure size 432x288 with 2 Axes>"
      ]
     },
     "metadata": {
      "needs_background": "light"
     },
     "output_type": "display_data"
    }
   ],
   "source": [
    "sns.heatmap(df2.corr()[['budget/homeless']].sort_values(by='budget/homeless', ascending = False).head(10))"
   ]
  },
  {
   "cell_type": "code",
   "execution_count": 282,
   "id": "65500c98-d7bd-41b9-8839-7fd5f2bc133d",
   "metadata": {},
   "outputs": [
    {
     "data": {
      "text/plain": [
       "city                                 0\n",
       "jan                                  0\n",
       "april                                0\n",
       "july                                 0\n",
       "oct                                  0\n",
       "precip “                             0\n",
       "precip days                          0\n",
       "snowfall                             0\n",
       "rank                                 0\n",
       "state                                0\n",
       "pop2021                              0\n",
       "pop2010                              0\n",
       "growth                               0\n",
       "density                              0\n",
       "aland_sqmi                           0\n",
       "2010 population                      0\n",
       "2012 population                      0\n",
       "growth / decline                     0\n",
       "rank_y                               0\n",
       "population (2013)                    0\n",
       "budget                               0\n",
       "took office                          0\n",
       "term ends                            0\n",
       "government type                      0\n",
       "overall homeless                     0\n",
       "median household income (dollars)    0\n",
       "budget/pop                           0\n",
       "budget/homeless                      0\n",
       "dtype: int64"
      ]
     },
     "execution_count": 282,
     "metadata": {},
     "output_type": "execute_result"
    }
   ],
   "source": [
    "df2.isna().sum()"
   ]
  },
  {
   "cell_type": "code",
   "execution_count": 295,
   "id": "1767b8f0-28a9-4302-bcd8-9b4cd123b78e",
   "metadata": {},
   "outputs": [
    {
     "data": {
      "text/plain": [
       "0      albuquerque\n",
       "1      albuquerque\n",
       "2      albuquerque\n",
       "3      albuquerque\n",
       "4      albuquerque\n",
       "          ...     \n",
       "347        wichita\n",
       "348        wichita\n",
       "349        wichita\n",
       "350        wichita\n",
       "351        wichita\n",
       "Name: city, Length: 189, dtype: object"
      ]
     },
     "execution_count": 295,
     "metadata": {},
     "output_type": "execute_result"
    }
   ],
   "source": [
    "df2.city"
   ]
  },
  {
   "cell_type": "code",
   "execution_count": 177,
   "id": "3cad8006-577a-460d-9b5d-cfa23cf92dc5",
   "metadata": {},
   "outputs": [
    {
     "data": {
      "text/plain": [
       "Index(['jan', 'april', 'july', 'oct ', 'precip “', 'precip days', 'snowfall',\n",
       "       'rank', 'pop2021', 'pop2010', 'growth', 'density', 'aland_sqmi',\n",
       "       '2010 population', '2012 population', 'growth / decline', 'rank_y',\n",
       "       'population (2013)', 'budget', 'took office', 'term ends',\n",
       "       'overall homeless', 'median household income (dollars)', 'budget/pop',\n",
       "       'budget/homeless'],\n",
       "      dtype='object')"
      ]
     },
     "execution_count": 177,
     "metadata": {},
     "output_type": "execute_result"
    }
   ],
   "source": [
    "df2.select_dtypes(np.number).columns"
   ]
  },
  {
   "cell_type": "code",
   "execution_count": 288,
   "id": "82cb0a13-730c-4d8b-8c5a-6e78859609e3",
   "metadata": {},
   "outputs": [],
   "source": [
    "from sklearn.preprocessing import StandardScaler\n",
    "sc = StandardScaler()\n",
    "s = sc.fit_transform(df2.select_dtypes(np.number))"
   ]
  },
  {
   "cell_type": "code",
   "execution_count": 289,
   "id": "c6a9cb1b-72b0-461e-ad5a-d84ed68defc4",
   "metadata": {},
   "outputs": [],
   "source": [
    "dfsc = pd.DataFrame(s, columns =df2.select_dtypes(np.number).columns )"
   ]
  },
  {
   "cell_type": "code",
   "execution_count": 293,
   "id": "3d832dbb-6cbe-4b13-9bc8-657e80422fe6",
   "metadata": {},
   "outputs": [],
   "source": [
    "dfsc['city'] = df2['city']"
   ]
  },
  {
   "cell_type": "code",
   "execution_count": 294,
   "id": "3a8865d6-009c-4a2c-bff6-0215707f7aef",
   "metadata": {},
   "outputs": [
    {
     "data": {
      "text/html": [
       "<div>\n",
       "<style scoped>\n",
       "    .dataframe tbody tr th:only-of-type {\n",
       "        vertical-align: middle;\n",
       "    }\n",
       "\n",
       "    .dataframe tbody tr th {\n",
       "        vertical-align: top;\n",
       "    }\n",
       "\n",
       "    .dataframe thead th {\n",
       "        text-align: right;\n",
       "    }\n",
       "</style>\n",
       "<table border=\"1\" class=\"dataframe\">\n",
       "  <thead>\n",
       "    <tr style=\"text-align: right;\">\n",
       "      <th></th>\n",
       "      <th>jan</th>\n",
       "      <th>april</th>\n",
       "      <th>july</th>\n",
       "      <th>oct</th>\n",
       "      <th>precip “</th>\n",
       "      <th>precip days</th>\n",
       "      <th>snowfall</th>\n",
       "      <th>rank</th>\n",
       "      <th>pop2021</th>\n",
       "      <th>pop2010</th>\n",
       "      <th>...</th>\n",
       "      <th>rank_y</th>\n",
       "      <th>population (2013)</th>\n",
       "      <th>budget</th>\n",
       "      <th>took office</th>\n",
       "      <th>term ends</th>\n",
       "      <th>overall homeless</th>\n",
       "      <th>median household income (dollars)</th>\n",
       "      <th>budget/pop</th>\n",
       "      <th>budget/homeless</th>\n",
       "      <th>city</th>\n",
       "    </tr>\n",
       "  </thead>\n",
       "  <tbody>\n",
       "    <tr>\n",
       "      <th>0</th>\n",
       "      <td>-0.297849</td>\n",
       "      <td>-0.374154</td>\n",
       "      <td>0.000000</td>\n",
       "      <td>-0.549020</td>\n",
       "      <td>-2.083582</td>\n",
       "      <td>-1.555265</td>\n",
       "      <td>-0.269735</td>\n",
       "      <td>-0.344863</td>\n",
       "      <td>-0.204418</td>\n",
       "      <td>-0.136569</td>\n",
       "      <td>...</td>\n",
       "      <td>-0.298223</td>\n",
       "      <td>-0.150663</td>\n",
       "      <td>-0.305958</td>\n",
       "      <td>0.312152</td>\n",
       "      <td>-0.816239</td>\n",
       "      <td>-0.440869</td>\n",
       "      <td>-0.888072</td>\n",
       "      <td>-0.308090</td>\n",
       "      <td>-0.126632</td>\n",
       "      <td>albuquerque</td>\n",
       "    </tr>\n",
       "    <tr>\n",
       "      <th>1</th>\n",
       "      <td>-0.297849</td>\n",
       "      <td>-0.374154</td>\n",
       "      <td>0.000000</td>\n",
       "      <td>-0.549020</td>\n",
       "      <td>-2.083582</td>\n",
       "      <td>-1.555265</td>\n",
       "      <td>-0.269735</td>\n",
       "      <td>-0.344863</td>\n",
       "      <td>-0.204418</td>\n",
       "      <td>-0.136569</td>\n",
       "      <td>...</td>\n",
       "      <td>-0.298223</td>\n",
       "      <td>-0.150663</td>\n",
       "      <td>-0.305958</td>\n",
       "      <td>0.312152</td>\n",
       "      <td>-0.816239</td>\n",
       "      <td>-0.421504</td>\n",
       "      <td>-0.888072</td>\n",
       "      <td>-0.308090</td>\n",
       "      <td>-0.154918</td>\n",
       "      <td>albuquerque</td>\n",
       "    </tr>\n",
       "    <tr>\n",
       "      <th>2</th>\n",
       "      <td>-0.297849</td>\n",
       "      <td>-0.374154</td>\n",
       "      <td>0.000000</td>\n",
       "      <td>-0.549020</td>\n",
       "      <td>-2.083582</td>\n",
       "      <td>-1.555265</td>\n",
       "      <td>-0.269735</td>\n",
       "      <td>-0.344863</td>\n",
       "      <td>-0.204418</td>\n",
       "      <td>-0.136569</td>\n",
       "      <td>...</td>\n",
       "      <td>-0.298223</td>\n",
       "      <td>-0.150663</td>\n",
       "      <td>-0.305958</td>\n",
       "      <td>0.312152</td>\n",
       "      <td>-0.816239</td>\n",
       "      <td>-0.459647</td>\n",
       "      <td>-0.888072</td>\n",
       "      <td>-0.308090</td>\n",
       "      <td>-0.097744</td>\n",
       "      <td>albuquerque</td>\n",
       "    </tr>\n",
       "    <tr>\n",
       "      <th>3</th>\n",
       "      <td>-0.297849</td>\n",
       "      <td>-0.374154</td>\n",
       "      <td>0.000000</td>\n",
       "      <td>-0.549020</td>\n",
       "      <td>-2.083582</td>\n",
       "      <td>-1.555265</td>\n",
       "      <td>-0.269735</td>\n",
       "      <td>-0.344863</td>\n",
       "      <td>-0.204418</td>\n",
       "      <td>-0.136569</td>\n",
       "      <td>...</td>\n",
       "      <td>-0.298223</td>\n",
       "      <td>-0.150663</td>\n",
       "      <td>-0.305958</td>\n",
       "      <td>0.312152</td>\n",
       "      <td>-0.816239</td>\n",
       "      <td>-0.403312</td>\n",
       "      <td>-0.888072</td>\n",
       "      <td>-0.308090</td>\n",
       "      <td>-0.180199</td>\n",
       "      <td>albuquerque</td>\n",
       "    </tr>\n",
       "    <tr>\n",
       "      <th>4</th>\n",
       "      <td>-0.297849</td>\n",
       "      <td>-0.374154</td>\n",
       "      <td>0.000000</td>\n",
       "      <td>-0.549020</td>\n",
       "      <td>-2.083582</td>\n",
       "      <td>-1.555265</td>\n",
       "      <td>-0.269735</td>\n",
       "      <td>-0.344863</td>\n",
       "      <td>-0.204418</td>\n",
       "      <td>-0.136569</td>\n",
       "      <td>...</td>\n",
       "      <td>-0.298223</td>\n",
       "      <td>-0.150663</td>\n",
       "      <td>-0.305958</td>\n",
       "      <td>0.312152</td>\n",
       "      <td>-0.816239</td>\n",
       "      <td>-0.390402</td>\n",
       "      <td>-0.888072</td>\n",
       "      <td>-0.308090</td>\n",
       "      <td>-0.197431</td>\n",
       "      <td>albuquerque</td>\n",
       "    </tr>\n",
       "    <tr>\n",
       "      <th>...</th>\n",
       "      <td>...</td>\n",
       "      <td>...</td>\n",
       "      <td>...</td>\n",
       "      <td>...</td>\n",
       "      <td>...</td>\n",
       "      <td>...</td>\n",
       "      <td>...</td>\n",
       "      <td>...</td>\n",
       "      <td>...</td>\n",
       "      <td>...</td>\n",
       "      <td>...</td>\n",
       "      <td>...</td>\n",
       "      <td>...</td>\n",
       "      <td>...</td>\n",
       "      <td>...</td>\n",
       "      <td>...</td>\n",
       "      <td>...</td>\n",
       "      <td>...</td>\n",
       "      <td>...</td>\n",
       "      <td>...</td>\n",
       "      <td>...</td>\n",
       "    </tr>\n",
       "    <tr>\n",
       "      <th>184</th>\n",
       "      <td>-0.732333</td>\n",
       "      <td>-0.410190</td>\n",
       "      <td>0.517771</td>\n",
       "      <td>-0.382463</td>\n",
       "      <td>-0.611313</td>\n",
       "      <td>-0.745231</td>\n",
       "      <td>-0.056812</td>\n",
       "      <td>0.271326</td>\n",
       "      <td>-0.570581</td>\n",
       "      <td>-0.538350</td>\n",
       "      <td>...</td>\n",
       "      <td>0.382794</td>\n",
       "      <td>-0.546142</td>\n",
       "      <td>-0.584612</td>\n",
       "      <td>1.034560</td>\n",
       "      <td>1.100149</td>\n",
       "      <td>-0.841666</td>\n",
       "      <td>-0.827402</td>\n",
       "      <td>-0.431855</td>\n",
       "      <td>0.335605</td>\n",
       "      <td>NaN</td>\n",
       "    </tr>\n",
       "    <tr>\n",
       "      <th>185</th>\n",
       "      <td>-0.732333</td>\n",
       "      <td>-0.410190</td>\n",
       "      <td>0.517771</td>\n",
       "      <td>-0.382463</td>\n",
       "      <td>-0.611313</td>\n",
       "      <td>-0.745231</td>\n",
       "      <td>-0.056812</td>\n",
       "      <td>0.271326</td>\n",
       "      <td>-0.570581</td>\n",
       "      <td>-0.538350</td>\n",
       "      <td>...</td>\n",
       "      <td>0.382794</td>\n",
       "      <td>-0.546142</td>\n",
       "      <td>-0.584612</td>\n",
       "      <td>1.034560</td>\n",
       "      <td>1.100149</td>\n",
       "      <td>-0.839319</td>\n",
       "      <td>-0.827402</td>\n",
       "      <td>-0.431855</td>\n",
       "      <td>0.324715</td>\n",
       "      <td>NaN</td>\n",
       "    </tr>\n",
       "    <tr>\n",
       "      <th>186</th>\n",
       "      <td>-0.732333</td>\n",
       "      <td>-0.410190</td>\n",
       "      <td>0.517771</td>\n",
       "      <td>-0.382463</td>\n",
       "      <td>-0.611313</td>\n",
       "      <td>-0.745231</td>\n",
       "      <td>-0.056812</td>\n",
       "      <td>0.271326</td>\n",
       "      <td>-0.570581</td>\n",
       "      <td>-0.538350</td>\n",
       "      <td>...</td>\n",
       "      <td>0.382794</td>\n",
       "      <td>-0.546142</td>\n",
       "      <td>-0.584612</td>\n",
       "      <td>1.034560</td>\n",
       "      <td>1.100149</td>\n",
       "      <td>-0.840492</td>\n",
       "      <td>-0.827402</td>\n",
       "      <td>-0.431855</td>\n",
       "      <td>0.330141</td>\n",
       "      <td>NaN</td>\n",
       "    </tr>\n",
       "    <tr>\n",
       "      <th>187</th>\n",
       "      <td>-0.732333</td>\n",
       "      <td>-0.410190</td>\n",
       "      <td>0.517771</td>\n",
       "      <td>-0.382463</td>\n",
       "      <td>-0.611313</td>\n",
       "      <td>-0.745231</td>\n",
       "      <td>-0.056812</td>\n",
       "      <td>0.271326</td>\n",
       "      <td>-0.570581</td>\n",
       "      <td>-0.538350</td>\n",
       "      <td>...</td>\n",
       "      <td>0.382794</td>\n",
       "      <td>-0.546142</td>\n",
       "      <td>-0.584612</td>\n",
       "      <td>1.034560</td>\n",
       "      <td>1.100149</td>\n",
       "      <td>-0.828756</td>\n",
       "      <td>-0.827402</td>\n",
       "      <td>-0.431855</td>\n",
       "      <td>0.277530</td>\n",
       "      <td>NaN</td>\n",
       "    </tr>\n",
       "    <tr>\n",
       "      <th>188</th>\n",
       "      <td>-0.732333</td>\n",
       "      <td>-0.410190</td>\n",
       "      <td>0.517771</td>\n",
       "      <td>-0.382463</td>\n",
       "      <td>-0.611313</td>\n",
       "      <td>-0.745231</td>\n",
       "      <td>-0.056812</td>\n",
       "      <td>0.271326</td>\n",
       "      <td>-0.570581</td>\n",
       "      <td>-0.538350</td>\n",
       "      <td>...</td>\n",
       "      <td>0.382794</td>\n",
       "      <td>-0.546142</td>\n",
       "      <td>-0.584612</td>\n",
       "      <td>1.034560</td>\n",
       "      <td>1.100149</td>\n",
       "      <td>-0.813499</td>\n",
       "      <td>-0.827402</td>\n",
       "      <td>-0.431855</td>\n",
       "      <td>0.214217</td>\n",
       "      <td>NaN</td>\n",
       "    </tr>\n",
       "  </tbody>\n",
       "</table>\n",
       "<p>189 rows × 26 columns</p>\n",
       "</div>"
      ],
      "text/plain": [
       "          jan     april      july      oct   precip “  precip days  snowfall  \\\n",
       "0   -0.297849 -0.374154  0.000000 -0.549020 -2.083582    -1.555265 -0.269735   \n",
       "1   -0.297849 -0.374154  0.000000 -0.549020 -2.083582    -1.555265 -0.269735   \n",
       "2   -0.297849 -0.374154  0.000000 -0.549020 -2.083582    -1.555265 -0.269735   \n",
       "3   -0.297849 -0.374154  0.000000 -0.549020 -2.083582    -1.555265 -0.269735   \n",
       "4   -0.297849 -0.374154  0.000000 -0.549020 -2.083582    -1.555265 -0.269735   \n",
       "..        ...       ...       ...       ...       ...          ...       ...   \n",
       "184 -0.732333 -0.410190  0.517771 -0.382463 -0.611313    -0.745231 -0.056812   \n",
       "185 -0.732333 -0.410190  0.517771 -0.382463 -0.611313    -0.745231 -0.056812   \n",
       "186 -0.732333 -0.410190  0.517771 -0.382463 -0.611313    -0.745231 -0.056812   \n",
       "187 -0.732333 -0.410190  0.517771 -0.382463 -0.611313    -0.745231 -0.056812   \n",
       "188 -0.732333 -0.410190  0.517771 -0.382463 -0.611313    -0.745231 -0.056812   \n",
       "\n",
       "         rank   pop2021   pop2010  ...    rank_y  population (2013)    budget  \\\n",
       "0   -0.344863 -0.204418 -0.136569  ... -0.298223          -0.150663 -0.305958   \n",
       "1   -0.344863 -0.204418 -0.136569  ... -0.298223          -0.150663 -0.305958   \n",
       "2   -0.344863 -0.204418 -0.136569  ... -0.298223          -0.150663 -0.305958   \n",
       "3   -0.344863 -0.204418 -0.136569  ... -0.298223          -0.150663 -0.305958   \n",
       "4   -0.344863 -0.204418 -0.136569  ... -0.298223          -0.150663 -0.305958   \n",
       "..        ...       ...       ...  ...       ...                ...       ...   \n",
       "184  0.271326 -0.570581 -0.538350  ...  0.382794          -0.546142 -0.584612   \n",
       "185  0.271326 -0.570581 -0.538350  ...  0.382794          -0.546142 -0.584612   \n",
       "186  0.271326 -0.570581 -0.538350  ...  0.382794          -0.546142 -0.584612   \n",
       "187  0.271326 -0.570581 -0.538350  ...  0.382794          -0.546142 -0.584612   \n",
       "188  0.271326 -0.570581 -0.538350  ...  0.382794          -0.546142 -0.584612   \n",
       "\n",
       "     took office  term ends  overall homeless  \\\n",
       "0       0.312152  -0.816239         -0.440869   \n",
       "1       0.312152  -0.816239         -0.421504   \n",
       "2       0.312152  -0.816239         -0.459647   \n",
       "3       0.312152  -0.816239         -0.403312   \n",
       "4       0.312152  -0.816239         -0.390402   \n",
       "..           ...        ...               ...   \n",
       "184     1.034560   1.100149         -0.841666   \n",
       "185     1.034560   1.100149         -0.839319   \n",
       "186     1.034560   1.100149         -0.840492   \n",
       "187     1.034560   1.100149         -0.828756   \n",
       "188     1.034560   1.100149         -0.813499   \n",
       "\n",
       "     median household income (dollars)  budget/pop  budget/homeless  \\\n",
       "0                            -0.888072   -0.308090        -0.126632   \n",
       "1                            -0.888072   -0.308090        -0.154918   \n",
       "2                            -0.888072   -0.308090        -0.097744   \n",
       "3                            -0.888072   -0.308090        -0.180199   \n",
       "4                            -0.888072   -0.308090        -0.197431   \n",
       "..                                 ...         ...              ...   \n",
       "184                          -0.827402   -0.431855         0.335605   \n",
       "185                          -0.827402   -0.431855         0.324715   \n",
       "186                          -0.827402   -0.431855         0.330141   \n",
       "187                          -0.827402   -0.431855         0.277530   \n",
       "188                          -0.827402   -0.431855         0.214217   \n",
       "\n",
       "            city  \n",
       "0    albuquerque  \n",
       "1    albuquerque  \n",
       "2    albuquerque  \n",
       "3    albuquerque  \n",
       "4    albuquerque  \n",
       "..           ...  \n",
       "184          NaN  \n",
       "185          NaN  \n",
       "186          NaN  \n",
       "187          NaN  \n",
       "188          NaN  \n",
       "\n",
       "[189 rows x 26 columns]"
      ]
     },
     "execution_count": 294,
     "metadata": {},
     "output_type": "execute_result"
    }
   ],
   "source": [
    "dfsc"
   ]
  },
  {
   "cell_type": "code",
   "execution_count": 292,
   "id": "26380d4c-0809-467e-a3cc-25cba880d5b2",
   "metadata": {},
   "outputs": [
    {
     "data": {
      "text/plain": [
       "<AxesSubplot:xlabel='jan', ylabel='overall homeless'>"
      ]
     },
     "execution_count": 292,
     "metadata": {},
     "output_type": "execute_result"
    },
    {
     "data": {
      "image/png": "[encoded data removed]",
      "text/plain": [
       "<Figure size 432x288 with 1 Axes>"
      ]
     },
     "metadata": {
      "needs_background": "light"
     },
     "output_type": "display_data"
    }
   ],
   "source": [
    "\n",
    "sns.scatterplot(x = 'jan' , y ='overall homeless', data =dfsc)"
   ]
  }
 ],
 "metadata": {
  "kernelspec": {
   "display_name": "Python 3",
   "language": "python",
   "name": "python3"
  },
  "language_info": {
   "codemirror_mode": {
    "name": "ipython",
    "version": 3
   },
   "file_extension": ".py",
   "mimetype": "text/x-python",
   "name": "python",
   "nbconvert_exporter": "python",
   "pygments_lexer": "ipython3",
   "version": "3.8.8"
  }
 },
 "nbformat": 4,
 "nbformat_minor": 5
}
